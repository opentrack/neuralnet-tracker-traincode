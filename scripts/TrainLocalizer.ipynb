{
 "cells": [
  {
   "cell_type": "code",
   "execution_count": null,
   "metadata": {},
   "outputs": [],
   "source": [
    "# TODO: This notebook is broken. Fix it."
   ]
  },
  {
   "cell_type": "code",
   "execution_count": null,
   "metadata": {},
   "outputs": [],
   "source": [
    "from importlib import reload\n",
    "from os.path import join\n",
    "from collections import defaultdict\n",
    "import sys\n",
    "import os\n",
    "import numpy as np\n",
    "from matplotlib import pyplot\n",
    "import cv2\n",
    "cv2.setNumThreads(1)"
   ]
  },
  {
   "cell_type": "code",
   "execution_count": null,
   "metadata": {},
   "outputs": [],
   "source": [
    "import torch\n",
    "import torch.nn as nn\n",
    "import torch.nn.functional as tf\n",
    "import torch.optim as optim\n",
    "from torch.utils.data import DataLoader\n",
    "from torchvision import transforms"
   ]
  },
  {
   "cell_type": "code",
   "execution_count": null,
   "metadata": {},
   "outputs": [],
   "source": [
    "from datasets.dshdf5pose import Hdf5PoseDataset\n",
    "import datatransformation\n",
    "import neuralnets.models\n",
    "import vis\n",
    "import utils\n",
    "import train"
   ]
  },
  {
   "cell_type": "code",
   "execution_count": null,
   "metadata": {
    "scrolled": true
   },
   "outputs": [],
   "source": [
    "net = neuralnets.models.LocalizerNet()\n",
    "net.cuda()"
   ]
  },
  {
   "cell_type": "code",
   "execution_count": null,
   "metadata": {
    "scrolled": false
   },
   "outputs": [],
   "source": [
    "# Adjust as needed\n",
    "path = join(os.environ['DATADIR'],'widerfacessingle.h5')\n",
    "\n",
    "h, w = net.input_resolution\n",
    "augh = round(h*1.2)\n",
    "augw = round(w*1.2)\n",
    "\n",
    "trainset = Hdf5PoseDataset(\n",
    "        path,\n",
    "        shuffle = True,\n",
    "        subset = slice(500,None),\n",
    "        transform=transforms.Compose([\n",
    "            datatransformation.RescaleMaintainAspect((augh, augw)),\n",
    "            datatransformation.RandomCrop(net.input_resolution),\n",
    "            datatransformation.AdaptiveBrightnessContrastDistortion(),\n",
    "            datatransformation.ImageColorDistort(),\n",
    "            datatransformation.Flip(),\n",
    "            datatransformation.Normalize(monochrome=True),\n",
    "            datatransformation.ToTensor(),\n",
    "]))\n",
    "\n",
    "\n",
    "testset = Hdf5PoseDataset(\n",
    "        path,\n",
    "        shuffle = False,\n",
    "        subset = slice(500),\n",
    "        transform=transforms.Compose([\n",
    "            datatransformation.RescaleMaintainAspect(net.input_resolution),\n",
    "            datatransformation.Normalize(monochrome=True),\n",
    "            datatransformation.ToTensor(),\n",
    "]))"
   ]
  },
  {
   "cell_type": "code",
   "execution_count": null,
   "metadata": {},
   "outputs": [],
   "source": [
    "train_loader = datatransformation.PostprocessingDataLoader(trainset, \n",
    "                          batch_size=32,\n",
    "                          shuffle=False, \n",
    "                          num_workers=5,\n",
    "                          postprocess = transforms.Compose([\n",
    "                                datatransformation.BlurNoiseDistortion(),\n",
    "                                datatransformation.MoveToGpu(),\n",
    "                          ]))\n",
    "test_loader = datatransformation.PostprocessingDataLoader(testset, \n",
    "                          batch_size=32,\n",
    "                          shuffle=False, \n",
    "                          num_workers=5,\n",
    "                          postprocess = datatransformation.MoveToGpu())"
   ]
  },
  {
   "cell_type": "code",
   "execution_count": null,
   "metadata": {
    "scrolled": false
   },
   "outputs": [],
   "source": [
    "def iterate_loader(loader):\n",
    "    for batch in loader:\n",
    "        for sample in utils.undo_collate(batch):\n",
    "            yield vis.unnormalize_sample_to_numpy(sample)\n",
    "\n",
    "%matplotlib notebook\n",
    "vis.matplotlib_plot_iterable(iterate_loader(train_loader), vis.draw_dataset_sample)"
   ]
  },
  {
   "cell_type": "code",
   "execution_count": null,
   "metadata": {},
   "outputs": [],
   "source": [
    "%matplotlib inline"
   ]
  },
  {
   "cell_type": "code",
   "execution_count": null,
   "metadata": {
    "scrolled": false,
    "tags": []
   },
   "outputs": [],
   "source": [
    "n_epochs = 100\n",
    "optimizer = optim.Adam(net.parameters(), lr=1.e-3, weight_decay=1.e-5)\n",
    "scheduler = optim.lr_scheduler.MultiStepLR(optimizer, [60,90], gamma=0.1)\n",
    "\n",
    "criterions = [\n",
    "    train.Criterion('prob', train.LocalizerProbLoss(), 0.1, train=True, test=True),\n",
    "    train.Criterion('box', train.LocalizerBoxLoss(), 1., train=True, test=True)\n",
    "]\n",
    "\n",
    "callbacks = [\n",
    "    #train.SaveBestCallback(net, 'prob', model_dir='../model_files'),\n",
    "    train.SaveBestCallback(net, 'box', model_dir='../model_files'),\n",
    "]\n",
    "\n",
    "train.run_the_training(\n",
    "    n_epochs,\n",
    "    optimizer,\n",
    "    net,\n",
    "    train_loader,\n",
    "    test_loader,\n",
    "    criterions,\n",
    "    scheduler = scheduler,\n",
    "    callbacks = callbacks)"
   ]
  },
  {
   "cell_type": "code",
   "execution_count": null,
   "metadata": {},
   "outputs": [],
   "source": []
  }
 ],
 "metadata": {
  "kernelspec": {
   "display_name": "Python 3 (ipykernel)",
   "language": "python",
   "name": "python3"
  },
  "language_info": {
   "codemirror_mode": {
    "name": "ipython",
    "version": 3
   },
   "file_extension": ".py",
   "mimetype": "text/x-python",
   "name": "python",
   "nbconvert_exporter": "python",
   "pygments_lexer": "ipython3",
   "version": "3.9.12"
  }
 },
 "nbformat": 4,
 "nbformat_minor": 4
}
