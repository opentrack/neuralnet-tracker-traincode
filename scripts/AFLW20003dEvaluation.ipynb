{
 "cells": [
  {
   "cell_type": "code",
   "execution_count": 1,
   "metadata": {},
   "outputs": [],
   "source": [
    "import sys\n",
    "import os"
   ]
  },
  {
   "cell_type": "code",
   "execution_count": 2,
   "metadata": {},
   "outputs": [],
   "source": [
    "from importlib import reload\n",
    "from os.path import join, splitext, sep, dirname\n",
    "from collections import defaultdict\n",
    "import sys\n",
    "import numpy as np\n",
    "import cv2\n",
    "cv2.setNumThreads(1)\n",
    "import os\n",
    "import itertools\n",
    "import h5py\n",
    "from scipy.spatial.transform import Rotation\n",
    "import zipfile\n",
    "import io\n",
    "import scipy.io\n",
    "import tqdm\n",
    "from PIL import Image\n",
    "from IPython.display import display"
   ]
  },
  {
   "cell_type": "code",
   "execution_count": 3,
   "metadata": {},
   "outputs": [],
   "source": [
    "import torch\n",
    "from torch.utils.data import Dataset"
   ]
  },
  {
   "cell_type": "code",
   "execution_count": 4,
   "metadata": {},
   "outputs": [],
   "source": [
    "import trackertraincode.neuralnets.models\n",
    "import trackertraincode.neuralnets.modelcomponents\n",
    "import trackertraincode.utils as utils"
   ]
  },
  {
   "cell_type": "code",
   "execution_count": 5,
   "metadata": {},
   "outputs": [],
   "source": [
    "from trackertraincode.datasets.preprocessing import imdecode,\\\n",
    "    depth_centered_keypoints, \\\n",
    "    extract_image_roi\n",
    "from scripts.export_model import clear_denormals"
   ]
  },
  {
   "cell_type": "code",
   "execution_count": 6,
   "metadata": {
    "scrolled": true
   },
   "outputs": [],
   "source": [
    "modelfile = '../model_files/pub_synface_oroi/run2/swa_NetworkWithPointHead_mobilenetv1.ckpt'\n",
    "net = trackertraincode.neuralnets.models.NetworkWithPointHead(\n",
    "    enable_point_head=True,\n",
    "    config='mobilenetv1', \n",
    "    enable_uncertainty=True)\n",
    "net.load_state_dict(torch.load(modelfile))\n",
    "inputsize = net.input_resolution\n",
    "net.cuda()\n",
    "net.eval()"
   ]
  },
  {
   "cell_type": "code",
   "execution_count": 7,
   "metadata": {},
   "outputs": [],
   "source": [
    "def unnormalize_coords(size_input, coords):\n",
    "    h, w = size_input\n",
    "    coords = coords.copy()\n",
    "    coords[...,0] += 1.\n",
    "    coords[...,0] *= w*0.5\n",
    "    coords[...,1] += 1.\n",
    "    coords[...,1] *= h*0.5\n",
    "    coords[...,2] *= 0.25*(h+w)\n",
    "    return coords\n",
    "\n",
    "def is_sample_file(fn):\n",
    "    return splitext(fn)[1]=='.mat' and not fn.endswith(sep) \\\n",
    "        and dirname(fn)=='AFLW2000'\n",
    "\n",
    "def discover_samples(zf):\n",
    "    filenames = [ \n",
    "        f.filename for f in zf.filelist if is_sample_file(f.filename)  ]\n",
    "    return filenames\n",
    "\n",
    "\n",
    "class AFLW2k3D(Dataset):\n",
    "    def __init__(self, zipfilename, crop = 'center'):\n",
    "        self.zipfilename = zipfilename\n",
    "        with zipfile.ZipFile(zipfilename) as zf:\n",
    "            self.matfilenames = sorted(discover_samples(zf))\n",
    "        self.zipfile = None\n",
    "        self.crop = crop\n",
    "    \n",
    "    def __len__(self):\n",
    "        return len(self.matfilenames)\n",
    "\n",
    "    def __getitem__(self, i):\n",
    "        if self.zipfile is None:\n",
    "            self.zipfile = zipfile.ZipFile(self.zipfilename)\n",
    "        \n",
    "        matfile = self.matfilenames[i]\n",
    "        with io.BytesIO(self.zipfile.read(matfile)) as f:\n",
    "            data = scipy.io.loadmat(f)\n",
    "\n",
    "        assert all((k in data) for k in 'pt3d_68 Pose_Para'.split()), f\"Data not found in file {matfile}. Contents is {data.keys()}\"\n",
    "\n",
    "        jpgbuffer = self.zipfile.read(splitext(matfile)[0]+'.jpg')\n",
    "        img = imdecode(jpgbuffer, color=False)\n",
    "        \n",
    "        H, W = img.shape[:2]\n",
    "\n",
    "        if self.crop == 'center':\n",
    "            roi = np.array([ W//4, H//4, W*3//4, H*3//4 ])\n",
    "            img = extract_image_roi(img, roi, 0.1, True, return_offset=False)\n",
    "        else:\n",
    "            pt3d = depth_centered_keypoints(data['pt3d_68'])\n",
    "            # Include some of the forehead in the bounding box. If the model has not been trained on this, it will decrease accuracy drastically!\n",
    "            # Including a larger area of the heads seems to be beneficial for size predictions. But for angle predictions can be good so or so.\n",
    "            #pt3d = extended_key_points_for_bounding_box(pt3d.T).T\n",
    "            x0, y0, _ = np.amin(pt3d, axis=1)\n",
    "            x1, y1, _ = np.amax(pt3d, axis=1)\n",
    "            roi = np.array([x0, y0, x1, y1])\n",
    "            img = extract_image_roi(img,roi, 0.1, True, return_offset=False)\n",
    "        \n",
    "        img = cv2.resize(img, (inputsize, inputsize))\n",
    "        \n",
    "        pitch, yaw, roll, tx, ty, tz, scale = data['Pose_Para'][0]\n",
    "        \n",
    "        return img, np.array([pitch, yaw, roll])\n",
    "\n",
    "\n",
    "def visualize(ds, range_):\n",
    "    for i in range_:\n",
    "        img, rot = ds[i]\n",
    "        display(Image.fromarray(img))\n",
    "        print (rot*180/np.pi)"
   ]
  },
  {
   "cell_type": "code",
   "execution_count": 8,
   "metadata": {},
   "outputs": [],
   "source": [
    "def measure_and_report(aflw2k3d, net):\n",
    "    predicted = []\n",
    "    euler_rot_targets = []\n",
    "    indices = []\n",
    "    filtered = []\n",
    "\n",
    "    for i, (img, label) in enumerate(tqdm.tqdm(aflw2k3d)):\n",
    "        euler_rot = label\n",
    "        pose_para_degrees = euler_rot*180./np.pi\n",
    "\n",
    "        # Following the img2pose paper\n",
    "        if np.any(np.abs(pose_para_degrees) > 99):\n",
    "            filtered.append((i, pose_para_degrees))\n",
    "            continue        \n",
    "\n",
    "        H, W = img.shape[:2]\n",
    "\n",
    "        with torch.no_grad():\n",
    "            input_ = torch.from_numpy(img/255.0 - 0.5).float().cuda()[None,None,...]\n",
    "            output = net(input_)\n",
    "        if isinstance(output, dict):\n",
    "            pose, coord = output['pose'], output['coord']\n",
    "        else:\n",
    "            coord, pose, _ ,_, _ = output\n",
    "        output = {\n",
    "            'rotation' : utils.convert_to_rot(pose.cpu().numpy())[0],\n",
    "            'coord' : unnormalize_coords((H,W), coord.cpu().numpy())[0],\n",
    "        }\n",
    "\n",
    "        predicted.append(output)\n",
    "        euler_rot_targets.append(euler_rot)\n",
    "        indices.append(i)\n",
    "\n",
    "    print (f\"Number of item actually processed: {len(predicted)}\")\n",
    "    \n",
    "    if 0:\n",
    "        print (f\"Filtered {len(filtered)} items:\")\n",
    "        for i, pose_para_degrees in filtered:\n",
    "            print (f\"Filter bad {aflw2k3d.matfilenames[i]} with pose params: {pose_para_degrees}\")\n",
    "        \n",
    "    predicted_euler = np.array([utils.inv_aflw_rotation_conversion(p['rotation']) for p in predicted])\n",
    "    mae_euler = np.average(np.abs(predicted_euler - np.array(euler_rot_targets)), axis=0)\n",
    "    mae_euler *= 180 / np.pi\n",
    "    \n",
    "    quats_targets = np.asarray([utils.aflw_rotation_conversion(*eulers).as_quat() for eulers in euler_rot_targets ])\n",
    "    quats_predict = np.asarray([p['rotation'].as_quat() for p in predicted])\n",
    "    delta_rot = (Rotation.from_quat(quats_targets).inv() * Rotation.from_quat(quats_predict)).magnitude()\n",
    "    mae_rot_angle = np.mean(delta_rot)*180./np.pi\n",
    "\n",
    "    print (\"MAE pitch: {:0.3f}°, yaw: {:0.3f}°, roll: {:0.3f}°, average: {:0.3f}°, geodesic: {:0.3f}°\".format(*mae_euler,np.average(mae_euler),mae_rot_angle))"
   ]
  },
  {
   "cell_type": "code",
   "execution_count": 9,
   "metadata": {},
   "outputs": [],
   "source": [
    "aflw2k3d = AFLW2k3D(join(os.environ['ORIGINAL_DATA_DIR'],'AFLW2000-3D.zip'))"
   ]
  },
  {
   "cell_type": "code",
   "execution_count": 10,
   "metadata": {},
   "outputs": [
    {
     "data": {
      "image/png": "[encoded data removed]",
      "text/plain": [
       "<PIL.Image.Image image mode=L size=129x129>"
      ]
     },
     "metadata": {},
     "output_type": "display_data"
    },
    {
     "name": "stdout",
     "output_type": "stream",
     "text": [
      "[-22.874239    1.044306    4.9088855]\n"
     ]
    },
    {
     "data": {
      "image/png": "[encoded data removed]",
      "text/plain": [
       "<PIL.Image.Image image mode=L size=129x129>"
      ]
     },
     "metadata": {},
     "output_type": "display_data"
    },
    {
     "name": "stdout",
     "output_type": "stream",
     "text": [
      "[26.932741 68.155235 17.24367 ]\n"
     ]
    }
   ],
   "source": [
    "visualize(aflw2k3d, range(2))"
   ]
  },
  {
   "cell_type": "code",
   "execution_count": 11,
   "metadata": {},
   "outputs": [
    {
     "name": "stdout",
     "output_type": "stream",
     "text": [
      "Evaluation on center crops\n"
     ]
    },
    {
     "name": "stderr",
     "output_type": "stream",
     "text": [
      "100%|███████████████████████████████████████████████████████████████████████████████████████████████████████████████████████████████| 2000/2000 [00:10<00:00, 184.43it/s]\n"
     ]
    },
    {
     "name": "stdout",
     "output_type": "stream",
     "text": [
      "Number of item actually processed: 1969\n",
      "MAE pitch: 4.368°, yaw: 2.788°, roll: 2.622°, average: 3.259°, geodesic: 5.340°\n"
     ]
    }
   ],
   "source": [
    "print (\"Evaluation on center crops\")\n",
    "measure_and_report(aflw2k3d, net)"
   ]
  },
  {
   "cell_type": "code",
   "execution_count": 12,
   "metadata": {},
   "outputs": [
    {
     "data": {
      "image/png": "[encoded data removed]",
      "text/plain": [
       "<PIL.Image.Image image mode=L size=129x129>"
      ]
     },
     "metadata": {},
     "output_type": "display_data"
    },
    {
     "name": "stdout",
     "output_type": "stream",
     "text": [
      "[-22.874239    1.044306    4.9088855]\n"
     ]
    },
    {
     "data": {
      "image/png": "[encoded data removed]",
      "text/plain": [
       "<PIL.Image.Image image mode=L size=129x129>"
      ]
     },
     "metadata": {},
     "output_type": "display_data"
    },
    {
     "name": "stdout",
     "output_type": "stream",
     "text": [
      "[26.932741 68.155235 17.24367 ]\n"
     ]
    }
   ],
   "source": [
    "aflw2k3d = AFLW2k3D(join(os.environ['ORIGINAL_DATA_DIR'],'AFLW2000-3D.zip'), crop='bbox')\n",
    "visualize(aflw2k3d, range(2))"
   ]
  },
  {
   "cell_type": "code",
   "execution_count": 13,
   "metadata": {
    "scrolled": true
   },
   "outputs": [
    {
     "name": "stdout",
     "output_type": "stream",
     "text": [
      "Evaluation on bounding box crops\n"
     ]
    },
    {
     "name": "stderr",
     "output_type": "stream",
     "text": [
      "100%|███████████████████████████████████████████████████████████████████████████████████████████████████████████████████████████████| 2000/2000 [00:07<00:00, 251.90it/s]\n"
     ]
    },
    {
     "name": "stdout",
     "output_type": "stream",
     "text": [
      "Number of item actually processed: 1969\n",
      "MAE pitch: 4.167°, yaw: 2.737°, roll: 2.411°, average: 3.105°, geodesic: 5.223°\n"
     ]
    }
   ],
   "source": [
    "print (\"Evaluation on bounding box crops\")\n",
    "measure_and_report(aflw2k3d, net)"
   ]
  }
 ],
 "metadata": {
  "kernelspec": {
   "display_name": "Python 3 (ipykernel)",
   "language": "python",
   "name": "python3"
  },
  "language_info": {
   "codemirror_mode": {
    "name": "ipython",
    "version": 3
   },
   "file_extension": ".py",
   "mimetype": "text/x-python",
   "name": "python",
   "nbconvert_exporter": "python",
   "pygments_lexer": "ipython3",
   "version": "3.9.12"
  }
 },
 "nbformat": 4,
 "nbformat_minor": 4
}
