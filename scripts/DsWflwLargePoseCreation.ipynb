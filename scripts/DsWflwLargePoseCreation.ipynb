{
 "cells": [
  {
   "cell_type": "code",
   "execution_count": 1,
   "id": "afcaaf51",
   "metadata": {},
   "outputs": [],
   "source": [
    "import os\n",
    "from matplotlib import pyplot\n",
    "import numpy as np\n",
    "import numpy.testing as npt\n",
    "from scipy.spatial.transform import Rotation\n",
    "import pickle\n",
    "import copy\n",
    "from PIL import Image\n",
    "from IPython.display import display\n",
    "from ipywidgets import interact\n",
    "import ipywidgets as widgets\n",
    "from torch.utils.data import Subset\n",
    "import h5py\n",
    "import time\n",
    "import cv2\n",
    "import tqdm\n",
    "import pprint"
   ]
  },
  {
   "cell_type": "code",
   "execution_count": 2,
   "id": "b8d9f198",
   "metadata": {},
   "outputs": [],
   "source": [
    "from facenet_pytorch import MTCNN\n",
    "import trimesh\n",
    "import pyrender"
   ]
  },
  {
   "cell_type": "code",
   "execution_count": 3,
   "id": "685f1159",
   "metadata": {},
   "outputs": [],
   "source": [
    "import sys"
   ]
  },
  {
   "cell_type": "code",
   "execution_count": 4,
   "id": "edbcd6ee",
   "metadata": {},
   "outputs": [],
   "source": [
    "from trackertraincode.facemodel.bfm import BFMModel\n",
    "from trackertraincode.facemodel import keypoints68\n",
    "from trackertraincode.datatransformation import _ensure_image_nchw\n",
    "from trackertraincode.datasets.dshdf5pose import Hdf5PoseDataset\n",
    "from trackertraincode.datasets.dshdf5 import open_dataset\n",
    "from trackertraincode import vis\n",
    "from trackertraincode import vis3d\n",
    "from trackertraincode import utils\n",
    "import trackertraincode.datatransformation as dtr\n",
    "from trackertraincode.datasets.preprocessing import imencode, ImageFormat\n",
    "from scripts.filter_dataset import filter_file_by_frames\n",
    "import face3drotationaugmentation"
   ]
  },
  {
   "cell_type": "code",
   "execution_count": 5,
   "id": "41ac7c7c",
   "metadata": {},
   "outputs": [],
   "source": [
    "filename = os.path.join(os.environ['DATADIR'],'wflw_train-v2.h5')"
   ]
  },
  {
   "cell_type": "code",
   "execution_count": 6,
   "id": "bd03f409",
   "metadata": {},
   "outputs": [],
   "source": [
    "def set_field_for_has_exactly_one_face(filename):\n",
    "    mtcnn = MTCNN(keep_all=True, device='cpu', min_face_size = 32)\n",
    "    ds = Hdf5PoseDataset(filename, monochrome=False, transform=dtr.batch.to_numpy, whitelist=['/images'])\n",
    "    mask = np.zeros((len(ds),), dtype='?')\n",
    "    for i, sample in enumerate(tqdm.tqdm(ds)):\n",
    "        myboxes, probs = mtcnn.detect(Image.fromarray(sample['image']))\n",
    "        if len(probs) != 1:\n",
    "            continue\n",
    "        mask[i] = True\n",
    "    ds.close()\n",
    "    with h5py.File(filename,'r+') as f:\n",
    "        ds = f.require_dataset('has_one_face', shape=mask.shape, dtype=mask.dtype)\n",
    "        ds[...] = mask"
   ]
  },
  {
   "cell_type": "code",
   "execution_count": 7,
   "id": "3de51fae",
   "metadata": {},
   "outputs": [],
   "source": [
    "# Enable if \"has_one_face\" dataset is not yet present in the hdf5\n",
    "#set_field_for_has_exactly_one_face(filename)"
   ]
  },
  {
   "cell_type": "code",
   "execution_count": 8,
   "id": "8d654f40",
   "metadata": {},
   "outputs": [],
   "source": [
    "with h5py.File(filename,'r') as f:\n",
    "    N = len(f['2dfit_v3/quats'])\n",
    "    g = f['2dfit_v3']\n",
    "    h = f['pseudolabels']\n",
    "    pt2d_68 = f['pt2d_68'][...]\n",
    "    rois = f['rois'][...].astype(np.float64)\n",
    "    pred_offline = g['pt3d_68'][...]\n",
    "    pred_nn = h['pt3d_68'][:N,...]\n",
    "    quats_offline = g['quats'][:N,...]\n",
    "    quats_nn = h['quats'][:N,...]\n",
    "    coords_offline = g['coords'][:N,...]\n",
    "    coords_nn = h['coords'][:N,...]\n",
    "    shapeparam_offline = g['shapeparams'][:N,...]\n",
    "    shapeparam_nn = h['shapeparams'][:N,...]\n",
    "    has_one_face = f['has_one_face'][...]"
   ]
  },
  {
   "cell_type": "code",
   "execution_count": 9,
   "id": "0a368d52",
   "metadata": {},
   "outputs": [],
   "source": [
    "#rot_magnitudes_offline = Rotation.from_quat(quats_offline).magnitude()\n",
    "rot_magnitudes_offline = np.abs(utils.as_hpb(Rotation.from_quat(quats_offline))[:,0])\n",
    "mask_small_rotation = rot_magnitudes_offline < np.pi/180.*0.\n",
    "mask_large_rotation = rot_magnitudes_offline > np.pi/180.*90.\n",
    "mask_rotations = ~(mask_small_rotation | mask_large_rotation)\n",
    "diameters = np.linalg.norm(rois[:,[2,3]]-rois[:,[0,1]],axis=-1)\n",
    "mask_small = diameters < 196\n",
    "delta = np.linalg.norm(quats_offline - quats_nn, axis=-1) + np.linalg.norm(coords_offline - coords_nn,axis=-1)*100./diameters + np.average(np.linalg.norm(pred_nn - pred_offline, axis=-1)*0.5, axis=-1)"
   ]
  },
  {
   "cell_type": "code",
   "execution_count": 10,
   "id": "cb784872",
   "metadata": {},
   "outputs": [],
   "source": [
    "def candidates_for_bad_fits():\n",
    "    # Bad = nn and offline fit are in good agreement except for the jaw on one side where the agreement must be bad.\n",
    "    not_chin = list(set(range(68)).difference(set(keypoints68.chin_left+keypoints68.chin_right)))\n",
    "    delta_nn = np.linalg.norm(pt2d_68 - pred_nn[:,:,:2], axis=-1)\n",
    "    delta_offline = np.linalg.norm(pt2d_68 - pred_offline[:,:,:2], axis=-1)\n",
    "    delta_chin_nn = delta_nn[:,keypoints68.chin_left+keypoints68.chin_right]\n",
    "    delta_chin_offline = delta_offline[:,keypoints68.chin_left+keypoints68.chin_right]\n",
    "    bad_mask1 = np.average(delta_chin_nn, axis=-1) > np.average(delta_chin_offline, axis=-1) + diameters*0.02\n",
    "    bad_mask2 = np.average(delta_offline, axis=-1) < diameters * 0.1\n",
    "    bad_mask3 = np.average(delta_nn[:,not_chin], axis=-1) < diameters * 0.1\n",
    "    return bad_mask1 & bad_mask2 & bad_mask3"
   ]
  },
  {
   "cell_type": "code",
   "execution_count": 11,
   "id": "5a0bc2cb",
   "metadata": {},
   "outputs": [
    {
     "data": {
      "text/plain": [
       "670"
      ]
     },
     "execution_count": 11,
     "metadata": {},
     "output_type": "execute_result"
    }
   ],
   "source": [
    "np.count_nonzero(candidates_for_bad_fits())"
   ]
  },
  {
   "cell_type": "code",
   "execution_count": 17,
   "id": "bb689d6a",
   "metadata": {},
   "outputs": [],
   "source": [
    "#mask = mask_rotations & (candidates_for_bad_fits()) & (~mask_small) & has_one_face\n",
    "mask = mask_rotations & (~mask_small) & has_one_face\n",
    "order = np.nonzero(mask)[0]"
   ]
  },
  {
   "cell_type": "code",
   "execution_count": 18,
   "id": "6670bf87",
   "metadata": {},
   "outputs": [
    {
     "data": {
      "text/plain": [
       "2290"
      ]
     },
     "execution_count": 18,
     "metadata": {},
     "output_type": "execute_result"
    }
   ],
   "source": [
    "len(order)"
   ]
  },
  {
   "cell_type": "code",
   "execution_count": 19,
   "id": "e680dbeb",
   "metadata": {},
   "outputs": [],
   "source": [
    "order = order[np.argsort(delta[order])]"
   ]
  },
  {
   "cell_type": "code",
   "execution_count": 20,
   "id": "963ce5cc",
   "metadata": {},
   "outputs": [],
   "source": [
    "#bad_sequences = bad_sequences.union(order)"
   ]
  },
  {
   "cell_type": "code",
   "execution_count": 21,
   "id": "d0561b09",
   "metadata": {},
   "outputs": [],
   "source": [
    "#order = np.setdiff1d(order, list(bad_sequences))"
   ]
  },
  {
   "cell_type": "code",
   "execution_count": 22,
   "id": "fe52c178",
   "metadata": {},
   "outputs": [],
   "source": [
    "facerender = vis3d.FaceRender()"
   ]
  },
  {
   "cell_type": "code",
   "execution_count": 23,
   "id": "949af0a5",
   "metadata": {},
   "outputs": [],
   "source": [
    "ds = Hdf5PoseDataset(filename, monochrome=False, transform=dtr.batch.to_numpy)"
   ]
  },
  {
   "cell_type": "code",
   "execution_count": 24,
   "id": "9a6b4fc4",
   "metadata": {},
   "outputs": [],
   "source": [
    "# TODO: bad_frames ...\n",
    "\n",
    "# These are the frames I identified as bad fits. Thus they shall not be used.\n",
    "bad_sequences = {2, 3, 4, 6, 11, 14, 15, 19, 20, 22, 25, 30, 34, 38, 39, 42, 44, 46, 49, 56, 57,\n",
    " 58, 61, 66, 70, 77, 78, 81, 85, 87, 92, 97, 100, 101, 102, 106, 107, 109, 110,\n",
    " 111, 113, 115, 116, 122, 124, 126, 127, 129, 130, 134, 135, 136, 146, 150, 154,\n",
    " 159, 166, 169, 174, 177, 178, 182, 185, 186, 191, 193, 196, 201, 202, 206, 212,\n",
    " 213, 214, 216, 217, 220, 221, 222, 224, 228, 229, 230, 231, 232, 234, 236, 237,\n",
    " 241, 247, 248, 253, 254, 259, 260, 266, 268, 269, 271, 272, 274, 275, 277, 278,\n",
    " 279, 283, 288, 296, 297, 300, 302, 304, 306, 308, 310, 314, 324, 325, 326, 328,\n",
    " 329, 331, 332, 334, 337, 339, 342, 343, 345, 348, 349, 350, 354, 356, 359, 367,\n",
    " 369, 370, 373, 377, 378, 384, 386, 387, 389, 390, 391, 394, 396, 399, 400, 401,\n",
    " 402, 404, 407, 410, 411, 412, 418, 419, 421, 426, 428, 441, 442, 444, 448, 454,\n",
    " 455, 456, 458, 459, 461, 465, 466, 480, 483, 484, 487, 488, 496, 504, 505, 506,\n",
    " 509, 513, 514, 519, 521, 524, 525, 527, 528, 532, 537, 542, 550, 551, 553, 554,\n",
    " 558, 562, 567, 569, 570, 572, 573, 575, 580, 581, 582, 584, 585, 588, 589, 590,\n",
    " 591, 592, 594, 596, 597, 599, 602, 604, 605, 606, 607, 609, 620, 623, 624, 625,\n",
    " 633, 635, 636, 637, 638, 639, 640, 644, 645, 646, 649, 653, 656, 657, 658, 664,\n",
    " 666, 671, 672, 675, 676, 677, 681, 684, 685, 686, 689, 690, 693, 694, 696, 700,\n",
    " 701, 702, 703, 705, 706, 709, 711, 712, 713, 716, 721, 722, 725, 726, 727, 729,\n",
    " 732, 733, 735, 740, 743, 746, 747, 748, 752, 753, 754, 756, 757, 764, 765, 768,\n",
    " 769, 770, 772, 773, 774, 775, 777, 783, 784, 788, 789, 791, 792, 793, 794, 797,\n",
    " 800, 802, 804, 805, 807, 808, 811, 818, 821, 822, 828, 829, 834, 839, 840, 842,\n",
    " 843, 844, 845, 848, 850, 851, 854, 855, 856, 859, 861, 864, 866, 869, 870, 871,\n",
    " 875, 883, 885, 886, 888, 890, 894, 896, 897, 899, 901, 902, 906, 919, 922, 925,\n",
    " 930, 932, 935, 937, 938, 939, 940, 941, 942, 944, 949, 951, 953, 955, 957, 965,\n",
    " 966, 967, 969, 971, 972, 973, 978, 981, 983, 984, 988, 989, 990, 994, 996, 997,\n",
    " 999, 1000, 1001, 1002, 1010, 1013, 1014, 1016, 1017, 1018, 1019, 1020, 1021,\n",
    " 1023, 1025, 1031, 1032, 1035, 1036, 1038, 1041, 1044, 1045, 1047, 1048, 1050,\n",
    " 1051, 1056, 1063, 1064, 1066, 1068, 1069, 1070, 1071, 1072, 1075, 1077, 1078,\n",
    " 1079, 1083, 1084, 1085, 1086, 1088, 1089, 1090, 1091, 1096, 1097, 1099, 1101,\n",
    " 1105, 1108, 1115, 1117, 1118, 1119, 1120, 1122, 1123, 1125, 1126, 1131, 1132,\n",
    " 1137, 1139, 1140, 1141, 1145, 1146, 1147, 1149, 1152, 1157, 1158, 1159, 1160,\n",
    " 1161, 1166, 1170, 1171, 1175, 1179, 1180, 1183, 1184, 1190, 1194, 1197, 1199,\n",
    " 1201, 1204, 1206, 1207, 1209, 1210, 1213, 1215, 1216, 1218, 1219, 1222, 1226,\n",
    " 1229, 1230, 1236, 1239, 1242, 1243, 1245, 1248, 1251, 1256, 1257, 1262, 1264,\n",
    " 1265, 1266, 1268, 1269, 1275, 1276, 1282, 1283, 1284, 1285, 1287, 1290, 1292,\n",
    " 1293, 1295, 1297, 1304, 1305, 1316, 1318, 1322, 1326, 1329, 1335, 1341, 1344,\n",
    " 1346, 1349, 1350, 1357, 1359, 1360, 1361, 1362, 1363, 1364, 1367, 1368, 1372,\n",
    " 1375, 1379, 1380, 1382, 1383, 1385, 1386, 1388, 1390, 1394, 1395, 1397, 1398,\n",
    " 1405, 1409, 1411, 1415, 1417, 1418, 1419, 1422, 1425, 1426, 1427, 1428, 1429,\n",
    " 1431, 1432, 1435, 1439, 1443, 1445, 1447, 1451, 1452, 1457, 1461, 1462, 1467,\n",
    " 1471, 1474, 1480, 1484, 1486, 1489, 1494, 1498, 1502, 1506, 1507, 1508, 1509,\n",
    " 1510, 1511, 1515, 1519, 1520, 1521, 1530, 1535, 1536, 1537, 1538, 1540, 1544,\n",
    " 1545, 1547, 1548, 1552, 1554, 1555, 1556, 1558, 1559, 1561, 1562, 1564, 1567,\n",
    " 1569, 1572, 1573, 1574, 1576, 1577, 1579, 1580, 1583, 1584, 1587, 1588, 1589,\n",
    " 1591, 1593, 1595, 1600, 1603, 1605, 1606, 1609, 1610, 1611, 1614, 1615, 1617,\n",
    " 1619, 1620, 1622, 1626, 1627, 1631, 1634, 1635, 1639, 1640, 1642, 1647, 1648,\n",
    " 1655, 1658, 1661, 1662, 1666, 1668, 1674, 1675, 1676, 1678, 1679, 1680, 1681,\n",
    " 1692, 1693, 1695, 1699, 1702, 1704, 1706, 1710, 1714, 1715, 1717, 1722, 1727,\n",
    " 1728, 1730, 1732, 1734, 1736, 1738, 1741, 1748, 1751, 1752, 1756, 1763, 1765,\n",
    " 1766, 1767, 1770, 1771, 1772, 1773, 1775, 1778, 1779, 1782, 1784, 1787, 1789,\n",
    " 1794, 1796, 1798, 1799, 1801, 1803, 1804, 1806, 1811, 1814, 1815, 1817, 1819,\n",
    " 1820, 1822, 1824, 1825, 1826, 1828, 1837, 1841, 1843, 1847, 1852, 1853, 1860,\n",
    " 1861, 1862, 1866, 1868, 1875, 1882, 1884, 1885, 1886, 1887, 1888, 1889, 1890,\n",
    " 1891, 1892, 1894, 1896, 1897, 1900, 1904, 1906, 1909, 1910, 1911, 1913, 1915,\n",
    " 1917, 1921, 1922, 1924, 1925, 1926, 1928, 1930, 1932, 1934, 1936, 1938, 1940,\n",
    " 1947, 1955, 1956, 1959, 1960, 1963, 1965, 1966, 1968, 1969, 1973, 1974, 1979,\n",
    " 1982, 1990, 1991, 1992, 1994, 1996, 1998, 1999, 2000, 2003, 2008, 2012, 2014,\n",
    " 2015, 2017, 2019, 2020, 2021, 2023, 2026, 2029, 2031, 2034, 2036, 2038, 2043,\n",
    " 2047, 2051, 2054, 2059, 2064, 2065, 2066, 2075, 2077, 2081, 2083, 2084, 2086,\n",
    " 2087, 2089, 2090, 2096, 2098, 2099, 2101, 2103, 2104, 2106, 2109, 2110, 2118,\n",
    " 2120, 2121, 2122, 2123, 2124, 2127, 2130, 2134, 2139, 2142, 2145, 2146, 2150,\n",
    " 2151, 2152, 2157, 2158, 2159, 2162, 2163, 2165, 2166, 2169, 2170, 2174, 2175,\n",
    " 2177, 2179, 2180, 2183, 2184, 2191, 2193, 2194, 2196, 2198, 2201, 2204, 2205,\n",
    " 2206, 2208, 2209, 2212, 2214, 2216, 2218, 2219, 2221, 2222, 2224, 2230, 2231,\n",
    " 2232, 2236, 2240, 2242, 2244, 2246, 2250, 2251, 2253, 2254, 2260, 2262, 2264,\n",
    " 2267, 2273, 2276, 2277, 2285, 2291, 2293, 2295, 2297, 2299, 2300, 2305, 2306,\n",
    " 2310, 2311, 2315, 2318, 2319, 2321, 2322, 2324, 2328, 2329, 2332, 2338, 2339,\n",
    " 2348, 2349, 2352, 2353, 2354, 2358, 2359, 2360, 2361, 2363, 2364, 2367, 2369,\n",
    " 2371, 2372, 2378, 2380, 2381, 2384, 2386, 2388, 2389, 2391, 2393, 2396, 2400,\n",
    " 2401, 2406, 2407, 2408, 2409, 2410, 2411, 2412, 2413, 2416, 2418, 2422, 2428,\n",
    " 2431, 2434, 2438, 2439, 2440, 2444, 2446, 2448, 2449, 2451, 2452, 2456, 2458,\n",
    " 2461, 2464, 2467, 2468, 2469, 2470, 2473, 2475, 2476, 2480, 2481, 2482, 2484,\n",
    " 2485, 2489, 2490, 2492, 2493, 2494, 2497, 2498, 2499, 2502, 2505, 2506, 2507,\n",
    " 2508, 2509, 2512, 2515, 2516, 2517, 2519, 2522, 2525, 2526, 2528, 2534, 2535,\n",
    " 2536, 2539, 2540, 2542, 2547, 2551, 2552, 2557, 2559, 2560, 2561, 2562, 2564,\n",
    " 2565, 2566, 2570, 2571, 2572, 2573, 2577, 2579, 2580, 2582, 2584, 2585, 2588,\n",
    " 2591, 2592, 2593, 2598, 2599, 2600, 2602, 2605, 2607, 2608, 2609, 2610, 2616,\n",
    " 2617, 2618, 2620, 2623, 2625, 2626, 2627, 2628}\n",
    "\n",
    "# TODO: actually use these predictions instead of offline fits.\n",
    "indices_use_nn_prediction = set()  # Default is offline fit"
   ]
  },
  {
   "cell_type": "code",
   "execution_count": 25,
   "id": "53d3556e",
   "metadata": {
    "scrolled": false
   },
   "outputs": [
    {
     "data": {
      "application/vnd.jupyter.widget-view+json": {
       "model_id": "451276bc535449c89c0693e0785588da",
       "version_major": 2,
       "version_minor": 0
      },
      "text/plain": [
       "HBox(children=(Button(description='Prev', style=ButtonStyle()), IntSlider(value=0, max=2289), Button(descripti…"
      ]
     },
     "metadata": {},
     "output_type": "display_data"
    },
    {
     "data": {
      "application/vnd.jupyter.widget-view+json": {
       "model_id": "1d27afd7e6c340b2be0e2e4b387a6b3c",
       "version_major": 2,
       "version_minor": 0
      },
      "text/plain": [
       "Image(value=b'')"
      ]
     },
     "metadata": {},
     "output_type": "display_data"
    }
   ],
   "source": [
    "button = widgets.Button(description='Bad')\n",
    "button_use_nn_pred = widgets.Button(description='Use NN')\n",
    "button_use_offline_pred = widgets.Button(description='Use Offline')\n",
    "button_next = widgets.Button(description='Next')\n",
    "button_prev = widgets.Button(description='Prev')\n",
    "slider = widgets.IntSlider(value = 0, min=0, max=len(order)-1)\n",
    "image_widget = widgets.Image()\n",
    "\n",
    "label = widgets.Label(\"---\")\n",
    "\n",
    "\n",
    "my_widgets = widgets.HBox([button_prev, slider, button_next, button, button_use_nn_pred, button_use_offline_pred, label])\n",
    "\n",
    "\n",
    "current_index = 0\n",
    "\n",
    "\n",
    "def on_next(_):\n",
    "    global slider\n",
    "    slider.value += 1 if slider.value < slider.max else 0\n",
    "    #update_label()\n",
    "    #render_sample(current_index)\n",
    "\n",
    "    \n",
    "def on_prev(_):\n",
    "    global slider\n",
    "    slider.value -= 1 if slider.value > slider.min else 0\n",
    "    #update_label()\n",
    "    #render_sample(current_index)\n",
    "    \n",
    "\n",
    "def on_button_clicked(_):\n",
    "    bad_sequences.add(current_index)\n",
    "    try:\n",
    "        indices_use_nn_prediction.remove(current_index)\n",
    "    except KeyError:\n",
    "        pass\n",
    "    update_label()\n",
    "\n",
    "\n",
    "def on_button_use_nn_pred(_):\n",
    "    try:\n",
    "        bad_sequences.remove(current_index)\n",
    "    except KeyError:\n",
    "        pass\n",
    "    indices_use_nn_prediction.add(current_index)\n",
    "    update_label()\n",
    "\n",
    "    \n",
    "def on_button_use_offline_pred(_):\n",
    "    try:\n",
    "        bad_sequences.remove(current_index)\n",
    "    except KeyError:\n",
    "        pass\n",
    "    try:\n",
    "        indices_use_nn_prediction.remove(current_index)\n",
    "    except KeyError:\n",
    "        pass\n",
    "    update_label()\n",
    "\n",
    "\n",
    "def update_label():\n",
    "    if current_index in bad_sequences:\n",
    "        label.value = f\"Bad Label {current_index}\"\n",
    "        return\n",
    "    if current_index in indices_use_nn_prediction:\n",
    "        label.value = f\"NN {current_index}\"\n",
    "        return\n",
    "    label.value = f\"Offline {current_index}\"\n",
    "\n",
    "def value_changed(change):\n",
    "    render_sample(change.new)\n",
    "    \n",
    "button.on_click(on_button_clicked)\n",
    "button_use_nn_pred.on_click(on_button_use_nn_pred)\n",
    "button_use_offline_pred.on_click(on_button_use_offline_pred)\n",
    "button_prev.on_click(on_prev)\n",
    "button_next.on_click(on_next)\n",
    "slider.observe(value_changed, 'value')\n",
    "\n",
    "\n",
    "display(my_widgets)\n",
    "display(image_widget)\n",
    "\n",
    "def _visualize(sample):\n",
    "    img = sample['image']\n",
    "    rendering = facerender.set(\n",
    "        sample['coord'][:2],\n",
    "        sample['coord'][2],\n",
    "        Rotation.from_quat(sample['pose']),\n",
    "        sample['shapeparam'][:50],\n",
    "        img.shape[:2],\n",
    "    )\n",
    "    sample = copy.copy(sample)\n",
    "    rendering = Image.fromarray(rendering)\n",
    "    img = Image.fromarray(img)\n",
    "    img = Image.blend(rendering, img, 0.4)\n",
    "    sample['image'] = np.asarray(img)\n",
    "    img = vis.draw_dataset_sample(sample)\n",
    "    return img\n",
    "\n",
    "\n",
    "#@interact(idx = (0,len(order)-1))\n",
    "def render_sample(idx): #, overlay, show_network_prediction):\n",
    "    i = order[idx]\n",
    "    sample_image = ds[i]['image']\n",
    "    h, w = sample_image.shape[:2]    \n",
    "    \n",
    "    global current_index\n",
    "    current_index = i\n",
    "    \n",
    "    img = sample_image\n",
    "    if img.shape[-1] == 1:\n",
    "        img = np.broadcast_to(img, img.shape[:2]+(3,))\n",
    "    \n",
    "    nn_sample = {\n",
    "        'image' : np.asarray(img),\n",
    "        'coord' : coords_nn[i],\n",
    "        'pose' : quats_nn[i],\n",
    "        'pt3d_68' : pred_nn[i],\n",
    "        'shapeparam' : shapeparam_nn[i],\n",
    "    }\n",
    "\n",
    "    offline_sample = {\n",
    "        'image' : np.asarray(img),\n",
    "        'coord' : coords_offline[i],\n",
    "        'pose' : quats_offline[i],\n",
    "        'pt3d_68' : pred_offline[i],\n",
    "        'shapeparam' : shapeparam_offline[i],\n",
    "    }\n",
    "    \n",
    "    vis.draw_points3d(\n",
    "        img,\n",
    "        ds[i]['pt2d_68'],\n",
    "        labels=False\n",
    "    )\n",
    "    nn_vis = _visualize(nn_sample)\n",
    "    nn_vis = cv2.putText(nn_vis, 'nn', (15,15), cv2.FONT_HERSHEY_SIMPLEX, 0.5, (255,255,255))\n",
    "    offline_vis = _visualize(offline_sample)\n",
    "    offline_vis = cv2.putText(offline_vis, 'offline', (15,15), cv2.FONT_HERSHEY_SIMPLEX, 0.5, (255,255,255))\n",
    "    img = np.r_['1,1,1',img,nn_vis,offline_vis]\n",
    "    \n",
    "    if i in bad_sequences:\n",
    "        linewidth = 2\n",
    "        color = (255,0,0)\n",
    "        cv2.line(img, (0,0), (img.shape[1],img.shape[0]), color, linewidth)\n",
    "        cv2.line(img, (0,img.shape[0]), (img.shape[1],0), color, linewidth)\n",
    "    \n",
    "    update_label()\n",
    "    \n",
    "    #return my_widgets\n",
    "    #display(Image.fromarray(img))\n",
    "    image_widget.value = imencode(img,ImageFormat.PNG)"
   ]
  },
  {
   "cell_type": "code",
   "execution_count": 26,
   "id": "c94217ea",
   "metadata": {},
   "outputs": [
    {
     "name": "stdout",
     "output_type": "stream",
     "text": [
      "{2, 3, 4, 6, 11, 14, 15, 19, 20, 22, 25, 30, 34, 38, 39, 42, 44, 46, 49, 56, 57,\n",
      " 58, 61, 66, 70, 77, 78, 81, 85, 87, 92, 97, 100, 101, 102, 106, 107, 109, 110,\n",
      " 111, 113, 115, 116, 122, 124, 126, 127, 129, 130, 134, 135, 136, 146, 150, 154,\n",
      " 159, 166, 169, 174, 177, 178, 182, 185, 186, 191, 193, 196, 201, 202, 206, 212,\n",
      " 213, 214, 216, 217, 220, 221, 222, 224, 228, 229, 230, 231, 232, 234, 236, 237,\n",
      " 241, 247, 248, 253, 254, 259, 260, 266, 268, 269, 271, 272, 274, 275, 277, 278,\n",
      " 279, 283, 288, 296, 297, 300, 302, 304, 306, 308, 310, 314, 324, 325, 326, 328,\n",
      " 329, 331, 332, 334, 337, 339, 342, 343, 345, 348, 349, 350, 354, 356, 359, 367,\n",
      " 369, 370, 373, 377, 378, 384, 386, 387, 389, 390, 391, 394, 396, 399, 400, 401,\n",
      " 402, 404, 407, 410, 411, 412, 418, 419, 421, 426, 428, 441, 442, 444, 448, 454,\n",
      " 455, 456, 458, 459, 461, 465, 466, 480, 483, 484, 487, 488, 496, 504, 505, 506,\n",
      " 509, 513, 514, 519, 521, 524, 525, 527, 528, 532, 537, 542, 550, 551, 553, 554,\n",
      " 558, 562, 567, 569, 570, 572, 573, 575, 580, 581, 582, 584, 585, 588, 589, 590,\n",
      " 591, 592, 594, 596, 597, 599, 602, 604, 605, 606, 607, 609, 620, 623, 624, 625,\n",
      " 633, 635, 636, 637, 638, 639, 640, 644, 645, 646, 649, 653, 656, 657, 658, 664,\n",
      " 666, 671, 672, 675, 676, 677, 681, 684, 685, 686, 689, 690, 693, 694, 696, 700,\n",
      " 701, 702, 703, 705, 706, 709, 711, 712, 713, 716, 721, 722, 725, 726, 727, 729,\n",
      " 732, 733, 735, 740, 743, 746, 747, 748, 752, 753, 754, 756, 757, 764, 765, 768,\n",
      " 769, 770, 772, 773, 774, 775, 777, 783, 784, 788, 789, 791, 792, 793, 794, 797,\n",
      " 800, 802, 804, 805, 807, 808, 811, 818, 821, 822, 828, 829, 834, 839, 840, 842,\n",
      " 843, 844, 845, 848, 850, 851, 854, 855, 856, 859, 861, 864, 866, 869, 870, 871,\n",
      " 875, 883, 885, 886, 888, 890, 894, 896, 897, 899, 901, 902, 906, 919, 922, 925,\n",
      " 930, 932, 935, 937, 938, 939, 940, 941, 942, 944, 949, 951, 953, 955, 957, 965,\n",
      " 966, 967, 969, 971, 972, 973, 978, 981, 983, 984, 988, 989, 990, 994, 996, 997,\n",
      " 999, 1000, 1001, 1002, 1010, 1013, 1014, 1016, 1017, 1018, 1019, 1020, 1021,\n",
      " 1023, 1025, 1031, 1032, 1035, 1036, 1038, 1041, 1044, 1045, 1047, 1048, 1050,\n",
      " 1051, 1056, 1063, 1064, 1066, 1068, 1069, 1070, 1071, 1072, 1075, 1077, 1078,\n",
      " 1079, 1083, 1084, 1085, 1086, 1088, 1089, 1090, 1091, 1096, 1097, 1099, 1101,\n",
      " 1105, 1108, 1115, 1117, 1118, 1119, 1120, 1122, 1123, 1125, 1126, 1131, 1132,\n",
      " 1137, 1139, 1140, 1141, 1145, 1146, 1147, 1149, 1152, 1157, 1158, 1159, 1160,\n",
      " 1161, 1166, 1170, 1171, 1175, 1179, 1180, 1183, 1184, 1190, 1194, 1197, 1199,\n",
      " 1201, 1204, 1206, 1207, 1209, 1210, 1213, 1215, 1216, 1218, 1219, 1222, 1226,\n",
      " 1229, 1230, 1236, 1239, 1242, 1243, 1245, 1248, 1251, 1256, 1257, 1262, 1264,\n",
      " 1265, 1266, 1268, 1269, 1275, 1276, 1282, 1283, 1284, 1285, 1287, 1290, 1292,\n",
      " 1293, 1295, 1297, 1304, 1305, 1316, 1318, 1322, 1326, 1329, 1335, 1341, 1344,\n",
      " 1346, 1349, 1350, 1357, 1359, 1360, 1361, 1362, 1363, 1364, 1367, 1368, 1372,\n",
      " 1375, 1379, 1380, 1382, 1383, 1385, 1386, 1388, 1390, 1394, 1395, 1397, 1398,\n",
      " 1405, 1409, 1411, 1415, 1417, 1418, 1419, 1422, 1425, 1426, 1427, 1428, 1429,\n",
      " 1431, 1432, 1435, 1439, 1443, 1445, 1447, 1451, 1452, 1457, 1461, 1462, 1467,\n",
      " 1471, 1474, 1480, 1484, 1486, 1489, 1494, 1498, 1502, 1506, 1507, 1508, 1509,\n",
      " 1510, 1511, 1515, 1519, 1520, 1521, 1530, 1535, 1536, 1537, 1538, 1540, 1544,\n",
      " 1545, 1547, 1548, 1552, 1554, 1555, 1556, 1558, 1559, 1561, 1562, 1564, 1567,\n",
      " 1569, 1572, 1573, 1574, 1576, 1577, 1579, 1580, 1583, 1584, 1587, 1588, 1589,\n",
      " 1591, 1593, 1595, 1600, 1603, 1605, 1606, 1609, 1610, 1611, 1614, 1615, 1617,\n",
      " 1619, 1620, 1622, 1626, 1627, 1631, 1634, 1635, 1639, 1640, 1642, 1647, 1648,\n",
      " 1655, 1658, 1661, 1662, 1666, 1668, 1674, 1675, 1676, 1678, 1679, 1680, 1681,\n",
      " 1692, 1693, 1695, 1699, 1702, 1704, 1706, 1710, 1714, 1715, 1717, 1722, 1727,\n",
      " 1728, 1730, 1732, 1734, 1736, 1738, 1741, 1748, 1751, 1752, 1756, 1763, 1765,\n",
      " 1766, 1767, 1770, 1771, 1772, 1773, 1775, 1778, 1779, 1782, 1784, 1787, 1789,\n",
      " 1794, 1796, 1798, 1799, 1801, 1803, 1804, 1806, 1811, 1814, 1815, 1817, 1819,\n",
      " 1820, 1822, 1824, 1825, 1826, 1828, 1837, 1841, 1843, 1847, 1852, 1853, 1860,\n",
      " 1861, 1862, 1866, 1868, 1875, 1882, 1884, 1885, 1886, 1887, 1888, 1889, 1890,\n",
      " 1891, 1892, 1894, 1896, 1897, 1900, 1904, 1906, 1909, 1910, 1911, 1913, 1915,\n",
      " 1917, 1921, 1922, 1924, 1925, 1926, 1928, 1930, 1932, 1934, 1936, 1938, 1940,\n",
      " 1947, 1955, 1956, 1959, 1960, 1963, 1965, 1966, 1968, 1969, 1973, 1974, 1979,\n",
      " 1982, 1990, 1991, 1992, 1994, 1996, 1998, 1999, 2000, 2003, 2008, 2012, 2014,\n",
      " 2015, 2017, 2019, 2020, 2021, 2023, 2026, 2029, 2031, 2034, 2036, 2038, 2043,\n",
      " 2047, 2051, 2054, 2059, 2064, 2065, 2066, 2075, 2077, 2081, 2083, 2084, 2086,\n",
      " 2087, 2089, 2090, 2096, 2098, 2099, 2101, 2103, 2104, 2106, 2109, 2110, 2118,\n",
      " 2120, 2121, 2122, 2123, 2124, 2127, 2130, 2134, 2139, 2142, 2145, 2146, 2150,\n",
      " 2151, 2152, 2157, 2158, 2159, 2162, 2163, 2165, 2166, 2169, 2170, 2174, 2175,\n",
      " 2177, 2179, 2180, 2183, 2184, 2191, 2193, 2194, 2196, 2198, 2201, 2204, 2205,\n",
      " 2206, 2208, 2209, 2212, 2214, 2216, 2218, 2219, 2221, 2222, 2224, 2230, 2231,\n",
      " 2232, 2236, 2240, 2242, 2244, 2246, 2250, 2251, 2253, 2254, 2260, 2262, 2264,\n",
      " 2267, 2273, 2276, 2277, 2285, 2291, 2293, 2295, 2297, 2299, 2300, 2305, 2306,\n",
      " 2310, 2311, 2315, 2318, 2319, 2321, 2322, 2324, 2328, 2329, 2332, 2338, 2339,\n",
      " 2348, 2349, 2352, 2353, 2354, 2358, 2359, 2360, 2361, 2363, 2364, 2367, 2369,\n",
      " 2371, 2372, 2378, 2380, 2381, 2384, 2386, 2388, 2389, 2391, 2393, 2396, 2400,\n",
      " 2401, 2406, 2407, 2408, 2409, 2410, 2411, 2412, 2413, 2416, 2418, 2422, 2428,\n",
      " 2431, 2434, 2438, 2439, 2440, 2444, 2446, 2448, 2449, 2451, 2452, 2456, 2458,\n",
      " 2461, 2464, 2467, 2468, 2469, 2470, 2473, 2475, 2476, 2480, 2481, 2482, 2484,\n",
      " 2485, 2489, 2490, 2492, 2493, 2494, 2497, 2498, 2499, 2502, 2505, 2506, 2507,\n",
      " 2508, 2509, 2512, 2515, 2516, 2517, 2519, 2522, 2525, 2526, 2528, 2534, 2535,\n",
      " 2536, 2539, 2540, 2542, 2547, 2551, 2552, 2557, 2559, 2560, 2561, 2562, 2564,\n",
      " 2565, 2566, 2570, 2571, 2572, 2573, 2577, 2579, 2580, 2582, 2584, 2585, 2588,\n",
      " 2591, 2592, 2593, 2598, 2599, 2600, 2602, 2605, 2607, 2608, 2609, 2610, 2616,\n",
      " 2617, 2618, 2620, 2623, 2625, 2626, 2627, 2628}\n",
      "set()\n"
     ]
    }
   ],
   "source": [
    "pprint.pprint(bad_sequences,compact=True)\n",
    "pprint.pprint(indices_use_nn_prediction,compact=True)"
   ]
  },
  {
   "cell_type": "code",
   "execution_count": 27,
   "id": "dc8cba5a",
   "metadata": {},
   "outputs": [],
   "source": [
    "# WARNING: np.setdiff1d will silently fail when given the set as argument!!!\n",
    "#good_indices = np.setdiff1d(np.arange(N), list(bad_sequences))\n",
    "good_indices = np.setdiff1d(\n",
    "    np.nonzero(has_one_face & (~mask_small))[0],\n",
    "    list(bad_sequences))"
   ]
  },
  {
   "cell_type": "code",
   "execution_count": 30,
   "id": "75c3f591",
   "metadata": {},
   "outputs": [
    {
     "data": {
      "text/plain": [
       "1273"
      ]
     },
     "execution_count": 30,
     "metadata": {},
     "output_type": "execute_result"
    }
   ],
   "source": [
    "len(good_indices)"
   ]
  },
  {
   "cell_type": "code",
   "execution_count": 32,
   "id": "486732ab",
   "metadata": {},
   "outputs": [],
   "source": [
    "augmented_filename = os.path.join(os.environ['DATADIR'],'wflw_augmented_v4.h5')\n",
    "filename = os.path.join(os.environ['DATADIR'],'wflw_train-v2.h5')\n",
    "# Temporary data\n",
    "destination = os.path.join('/tmp','wflw_train_w_offline_fits.h5')\n",
    "filtered_destination = os.path.join('/tmp','wflw_train_good_fitted_frontal_faces.h5')"
   ]
  },
  {
   "cell_type": "code",
   "execution_count": 33,
   "id": "db749b03",
   "metadata": {},
   "outputs": [],
   "source": [
    "with h5py.File(filename, 'r') as f_input, h5py.File(destination, 'w') as f_output:\n",
    "    from_to = [\n",
    "        ('images','images'),\n",
    "        ('rois','rois'),\n",
    "        ('2dfit_v3/quats','quats'),\n",
    "        ('2dfit_v3/coords','coords'),\n",
    "        ('2dfit_v3/pt3d_68','pt3d_68'),\n",
    "        ('2dfit_v3/shapeparams','shapeparams'),\n",
    "    ]\n",
    "    for from_, to in from_to:\n",
    "        f_input.copy(from_, f_output, to)\n",
    "with h5py.File(destination, 'r') as f_output, h5py.File(filtered_destination, 'w') as f_filtered:\n",
    "    filter_file_by_frames(f_output, f_filtered,good_frame_indices=good_indices)"
   ]
  },
  {
   "cell_type": "code",
   "execution_count": 34,
   "id": "b0f8c74a",
   "metadata": {},
   "outputs": [],
   "source": [
    "def as_rotaug_sample(sample):\n",
    "    fields = dict(sample)\n",
    "    fields['rot'] = Rotation.from_quat(fields.pop('pose'))\n",
    "    xys = fields.pop('coord')\n",
    "    fields['xy'] = xys[:2]\n",
    "    fields['scale'] = xys[2]\n",
    "    fields['image'] = np.asarray(fields.pop('image'))\n",
    "    return fields"
   ]
  },
  {
   "cell_type": "code",
   "execution_count": 35,
   "id": "f580d410",
   "metadata": {},
   "outputs": [],
   "source": [
    "rng = np.random.RandomState(seed=12345678)"
   ]
  },
  {
   "cell_type": "code",
   "execution_count": 36,
   "id": "377c6334",
   "metadata": {},
   "outputs": [],
   "source": [
    "augds = Hdf5PoseDataset(filtered_destination, transform=dtr.batch.to_numpy, monochrome=False)"
   ]
  },
  {
   "cell_type": "code",
   "execution_count": null,
   "id": "3fc91369",
   "metadata": {},
   "outputs": [],
   "source": [
    "with face3drotationaugmentation.dataset_writer(augmented_filename) as writer:\n",
    "    for i, sample in enumerate(tqdm.tqdm(map(as_rotaug_sample, augds), total=len(augds))):\n",
    "        gen = face3drotationaugmentation.augment_sample(rng=rng, angle_step=5., prob_closed_eyes=0.5, prob_spotlight=0.001, sample=sample)\n",
    "        name  = f'sample{i:02d}'\n",
    "        for new_sample in gen:\n",
    "            writer.write(name,new_sample)"
   ]
  },
  {
   "cell_type": "code",
   "execution_count": null,
   "id": "eaa8a61f",
   "metadata": {},
   "outputs": [],
   "source": []
  }
 ],
 "metadata": {
  "kernelspec": {
   "display_name": "Python 3 (ipykernel)",
   "language": "python",
   "name": "python3"
  },
  "language_info": {
   "codemirror_mode": {
    "name": "ipython",
    "version": 3
   },
   "file_extension": ".py",
   "mimetype": "text/x-python",
   "name": "python",
   "nbconvert_exporter": "python",
   "pygments_lexer": "ipython3",
   "version": "3.9.12"
  }
 },
 "nbformat": 4,
 "nbformat_minor": 5
}
