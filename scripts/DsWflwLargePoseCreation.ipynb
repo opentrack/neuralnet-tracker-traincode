{
 "cells": [
  {
   "cell_type": "code",
   "execution_count": 1,
   "id": "afcaaf51",
   "metadata": {},
   "outputs": [],
   "source": [
    "import os\n",
    "from matplotlib import pyplot\n",
    "import numpy as np\n",
    "import numpy.testing as npt\n",
    "from scipy.spatial.transform import Rotation\n",
    "import pickle\n",
    "import copy\n",
    "from PIL import Image\n",
    "from IPython.display import display\n",
    "from ipywidgets import interact\n",
    "import ipywidgets as widgets\n",
    "from torch.utils.data import Subset\n",
    "import h5py\n",
    "import time\n",
    "import cv2\n",
    "import tqdm\n",
    "import pprint"
   ]
  },
  {
   "cell_type": "code",
   "execution_count": 2,
   "id": "b8d9f198",
   "metadata": {},
   "outputs": [],
   "source": [
    "from facenet_pytorch import MTCNN\n",
    "import trimesh\n",
    "import pyrender"
   ]
  },
  {
   "cell_type": "code",
   "execution_count": 5,
   "id": "685f1159",
   "metadata": {},
   "outputs": [],
   "source": [
    "import sys"
   ]
  },
  {
   "cell_type": "code",
   "execution_count": 3,
   "id": "edbcd6ee",
   "metadata": {},
   "outputs": [],
   "source": [
    "from trackertraincode.facemodel.bfm import BFMModel\n",
    "from trackertraincode.facemodel import keypoints68\n",
    "from trackertraincode.datatransformation import _ensure_image_nchw\n",
    "from trackertraincode.datasets.dshdf5pose import Hdf5PoseDataset\n",
    "from trackertraincode.datasets.dshdf5 import open_dataset\n",
    "from trackertraincode import vis\n",
    "from trackertraincode import utils\n",
    "import trackertraincode.datatransformation as dtr\n",
    "from trackertraincode.datasets.preprocessing import imencode, ImageFormat\n",
    "from scripts.filter_dataset import filter_file_by_frames\n",
    "import face3drotationaugmentation"
   ]
  },
  {
   "cell_type": "code",
   "execution_count": 7,
   "id": "41ac7c7c",
   "metadata": {},
   "outputs": [],
   "source": [
    "filename = os.path.join(os.environ['DATADIR'],'wflw_train.h5')"
   ]
  },
  {
   "cell_type": "code",
   "execution_count": 8,
   "id": "bd03f409",
   "metadata": {},
   "outputs": [],
   "source": [
    "def set_field_for_has_exactly_one_face(filename):\n",
    "    mtcnn = MTCNN(keep_all=True, device='cpu', min_face_size = 32)\n",
    "    ds = Hdf5PoseDataset(filename, monochrome=False, transform=dtr.to_numpy, whitelist=['/images'])\n",
    "    mask = np.zeros((len(ds),), dtype='?')\n",
    "    for i, sample in enumerate(tqdm.tqdm(ds)):\n",
    "        myboxes, probs = mtcnn.detect(Image.fromarray(sample['image']))\n",
    "        if len(probs) != 1:\n",
    "            continue\n",
    "        mask[i] = True\n",
    "    ds.close()\n",
    "    with h5py.File(filename,'r+') as f:\n",
    "        ds = f.require_dataset('has_one_face', shape=mask.shape, dtype=mask.dtype)\n",
    "        ds[...] = mask"
   ]
  },
  {
   "cell_type": "code",
   "execution_count": 9,
   "id": "3de51fae",
   "metadata": {},
   "outputs": [],
   "source": [
    "# Enable if \"has_one_face\" dataset is not yet present in the hdf5\n",
    "#set_field_for_has_exactly_one_face(filename)"
   ]
  },
  {
   "cell_type": "code",
   "execution_count": 10,
   "id": "8d654f40",
   "metadata": {},
   "outputs": [],
   "source": [
    "with h5py.File(filename,'r') as f:\n",
    "    N = len(f['2dfit_v2/quats'])\n",
    "    g = f['2dfit_v2']\n",
    "    h = f['pseudolabels']\n",
    "    pt2d_68 = f['pt2d_68'][...]\n",
    "    rois = f['rois'][...].astype(np.float64)\n",
    "    pred_offline = g['pt3d_68'][...]\n",
    "    pred_nn = h['pt3d_68'][:N,...]\n",
    "    quats_offline = g['quats'][:N,...]\n",
    "    quats_nn = h['quats'][:N,...]\n",
    "    coords_offline = g['coords'][:N,...]\n",
    "    coords_nn = h['coords'][:N,...]\n",
    "    shapeparam_offline = g['shapeparams'][:N,...]\n",
    "    shapeparam_nn = h['shapeparams'][:N,...]\n",
    "    has_one_face = f['has_one_face'][...]"
   ]
  },
  {
   "cell_type": "code",
   "execution_count": 11,
   "id": "0a368d52",
   "metadata": {},
   "outputs": [],
   "source": [
    "#rot_magnitudes_offline = Rotation.from_quat(quats_offline).magnitude()\n",
    "rot_magnitudes_offline = np.abs(utils.as_hpb(Rotation.from_quat(quats_offline))[:,0])\n",
    "mask_small_rotation = rot_magnitudes_offline < np.pi/180.*0.\n",
    "mask_large_rotation = rot_magnitudes_offline > np.pi/180.*90.\n",
    "mask_rotations = ~(mask_small_rotation | mask_large_rotation)\n",
    "diameters = np.linalg.norm(rois[:,[2,3]]-rois[:,[0,1]],axis=-1)\n",
    "\n",
    "delta = np.linalg.norm(quats_offline - quats_nn, axis=-1) + np.linalg.norm(coords_offline - coords_nn,axis=-1)*100./diameters + np.average(np.linalg.norm(pred_nn - pred_offline, axis=-1)*0.5, axis=-1)"
   ]
  },
  {
   "cell_type": "code",
   "execution_count": 12,
   "id": "cb784872",
   "metadata": {},
   "outputs": [],
   "source": [
    "def candidates_for_bad_fits():\n",
    "    # Bad = nn and offline fit are in good agreement except for the jaw on one side where the agreement must be bad.\n",
    "    not_chin = list(set(range(68)).difference(set(keypoints68.chin_left+keypoints68.chin_right)))\n",
    "    delta_nn = np.linalg.norm(pt2d_68 - pred_nn[:,:,:2], axis=-1)\n",
    "    delta_offline = np.linalg.norm(pt2d_68 - pred_offline[:,:,:2], axis=-1)\n",
    "    delta_chin_nn = delta_nn[:,keypoints68.chin_left+keypoints68.chin_right]\n",
    "    delta_chin_offline = delta_offline[:,keypoints68.chin_left+keypoints68.chin_right]\n",
    "    bad_mask1 = np.average(delta_chin_nn, axis=-1) > np.average(delta_chin_offline, axis=-1) + diameters*0.02\n",
    "    bad_mask2 = np.average(delta_offline, axis=-1) < diameters * 0.1\n",
    "    bad_mask3 = np.average(delta_nn[:,not_chin], axis=-1) < diameters * 0.1\n",
    "    return bad_mask1 & bad_mask2 & bad_mask3"
   ]
  },
  {
   "cell_type": "code",
   "execution_count": 13,
   "id": "5a0bc2cb",
   "metadata": {},
   "outputs": [
    {
     "data": {
      "text/plain": [
       "859"
      ]
     },
     "execution_count": 13,
     "metadata": {},
     "output_type": "execute_result"
    }
   ],
   "source": [
    "np.count_nonzero(candidates_for_bad_fits())"
   ]
  },
  {
   "cell_type": "code",
   "execution_count": 14,
   "id": "bb689d6a",
   "metadata": {},
   "outputs": [],
   "source": [
    "mask = mask_rotations & (candidates_for_bad_fits()) & has_one_face\n",
    "order = np.nonzero(mask)[0]"
   ]
  },
  {
   "cell_type": "code",
   "execution_count": 15,
   "id": "6670bf87",
   "metadata": {},
   "outputs": [
    {
     "data": {
      "text/plain": [
       "746"
      ]
     },
     "execution_count": 15,
     "metadata": {},
     "output_type": "execute_result"
    }
   ],
   "source": [
    "len(order)"
   ]
  },
  {
   "cell_type": "code",
   "execution_count": 16,
   "id": "e680dbeb",
   "metadata": {},
   "outputs": [],
   "source": [
    "order = order[np.argsort(delta[order])]"
   ]
  },
  {
   "cell_type": "code",
   "execution_count": 17,
   "id": "963ce5cc",
   "metadata": {},
   "outputs": [],
   "source": [
    "#bad_sequences = bad_sequences.union(order)"
   ]
  },
  {
   "cell_type": "code",
   "execution_count": 18,
   "id": "d0561b09",
   "metadata": {},
   "outputs": [],
   "source": [
    "#order = np.setdiff1d(order, list(bad_sequences))"
   ]
  },
  {
   "cell_type": "code",
   "execution_count": 19,
   "id": "fe52c178",
   "metadata": {},
   "outputs": [],
   "source": [
    "facerender = vis.FaceRender()"
   ]
  },
  {
   "cell_type": "code",
   "execution_count": 20,
   "id": "949af0a5",
   "metadata": {},
   "outputs": [],
   "source": [
    "ds = Hdf5PoseDataset(filename, monochrome=False, transform=dtr.to_numpy)"
   ]
  },
  {
   "cell_type": "code",
   "execution_count": 21,
   "id": "9a6b4fc4",
   "metadata": {},
   "outputs": [],
   "source": [
    "# TODO: bad_frames ...\n",
    "\n",
    "# These are the frames I identified as bad fits. Thus they shall not be used.\n",
    "bad_sequences = {2, 3, 4, 6, 11, 14, 15, 19, 20, 22, 25, 30, 34, 38, 42, 44, 46, 49, 56, 57, 58,\n",
    " 61, 66, 70, 77, 78, 81, 85, 92, 97, 100, 101, 102, 106, 107, 109, 110, 111,\n",
    " 113, 115, 122, 124, 126, 127, 130, 134, 135, 136, 146, 150, 154, 159, 166, 174,\n",
    " 177, 178, 182, 185, 186, 191, 193, 196, 201, 202, 206, 212, 213, 214, 216, 220,\n",
    " 221, 222, 224, 228, 229, 230, 231, 232, 234, 247, 248, 253, 254, 259, 260, 266,\n",
    " 268, 269, 271, 272, 274, 275, 278, 279, 283, 288, 296, 297, 300, 302, 304, 306,\n",
    " 308, 310, 314, 324, 325, 326, 328, 329, 331, 334, 337, 339, 342, 343, 345, 348,\n",
    " 349, 350, 354, 356, 359, 367, 369, 370, 373, 378, 384, 386, 387, 389, 390, 391,\n",
    " 394, 396, 399, 400, 401, 402, 404, 407, 410, 411, 412, 418, 419, 421, 426, 428,\n",
    " 441, 442, 444, 448, 454, 455, 456, 458, 459, 461, 465, 480, 483, 484, 487, 488,\n",
    " 496, 506, 509, 513, 514, 519, 521, 524, 525, 527, 528, 532, 537, 542, 550, 551,\n",
    " 553, 554, 558, 567, 569, 572, 573, 581, 582, 584, 585, 588, 590, 591, 592, 594,\n",
    " 596, 597, 599, 602, 604, 605, 606, 607, 609, 620, 623, 624, 625, 633, 636, 637,\n",
    " 640, 644, 646, 649, 653, 656, 657, 658, 664, 666, 671, 675, 676, 677, 681, 684,\n",
    " 685, 686, 689, 693, 694, 696, 700, 702, 703, 705, 706, 709, 711, 712, 713, 716,\n",
    " 721, 722, 725, 726, 727, 732, 733, 735, 740, 743, 746, 747, 748, 753, 754, 756,\n",
    " 757, 764, 765, 770, 772, 773, 774, 775, 777, 783, 784, 788, 791, 792, 793, 794,\n",
    " 797, 800, 802, 805, 807, 808, 811, 821, 829, 834, 839, 840, 842, 843, 844, 845,\n",
    " 848, 850, 851, 854, 855, 856, 859, 861, 864, 869, 870, 871, 875, 883, 885, 886,\n",
    " 888, 894, 896, 897, 899, 901, 902, 906, 922, 925, 937, 938, 939, 940, 941, 942,\n",
    " 944, 949, 951, 953, 955, 957, 965, 966, 967, 971, 972, 973, 978, 981, 983, 988,\n",
    " 990, 994, 996, 997, 999, 1000, 1001, 1002, 1010, 1013, 1014, 1016, 1017, 1018,\n",
    " 1021, 1023, 1025, 1031, 1032, 1035, 1036, 1038, 1041, 1044, 1045, 1048, 1050,\n",
    " 1051, 1063, 1064, 1066, 1068, 1069, 1070, 1071, 1075, 1077, 1079, 1083, 1085,\n",
    " 1086, 1090, 1091, 1096, 1097, 1099, 1101, 1105, 1118, 1119, 1123, 1126, 1137,\n",
    " 1140, 1141, 1146, 1147, 1149, 1152, 1158, 1161, 1166, 1170, 1171, 1175, 1183,\n",
    " 1184, 1190, 1194, 1197, 1199, 1204, 1206, 1207, 1210, 1216, 1218, 1219, 1222,\n",
    " 1226, 1229, 1230, 1236, 1239, 1242, 1243, 1245, 1248, 1251, 1256, 1257, 1264,\n",
    " 1266, 1268, 1269, 1276, 1282, 1283, 1284, 1285, 1287, 1292, 1295, 1297, 1304,\n",
    " 1305, 1318, 1322, 1326, 1329, 1335, 1341, 1344, 1346, 1349, 1350, 1357, 1359,\n",
    " 1360, 1361, 1362, 1364, 1367, 1368, 1372, 1375, 1380, 1382, 1383, 1385, 1386,\n",
    " 1388, 1390, 1394, 1395, 1397, 1398, 1405, 1411, 1415, 1417, 1419, 1422, 1425,\n",
    " 1426, 1427, 1429, 1439, 1443, 1447, 1451, 1452, 1461, 1462, 1467, 1471, 1474,\n",
    " 1484, 1486, 1489, 1494, 1498, 1506, 1507, 1508, 1509, 1510, 1515, 1519, 1520,\n",
    " 1530, 1535, 1536, 1537, 1540, 1544, 1552, 1554, 1556, 1559, 1561, 1562, 1564,\n",
    " 1567, 1569, 1572, 1573, 1576, 1577, 1580, 1583, 1584, 1587, 1588, 1589, 1593,\n",
    " 1595, 1600, 1605, 1606, 1609, 1610, 1611, 1614, 1615, 1617, 1620, 1622, 1627,\n",
    " 1631, 1635, 1639, 1642, 1647, 1648, 1655, 1661, 1662, 1668, 1674, 1675, 1678,\n",
    " 1679, 1681, 1692, 1693, 1702, 1704, 1706, 1714, 1717, 1722, 1727, 1728, 1730,\n",
    " 1732, 1734, 1736, 1738, 1748, 1752, 1756, 1763, 1765, 1766, 1770, 1771, 1772,\n",
    " 1773, 1775, 1779, 1782, 1787, 1789, 1794, 1796, 1798, 1811, 1814, 1815, 1817,\n",
    " 1819, 1820, 1822, 1824, 1825, 1826, 1828, 1837, 1841, 1843, 1847, 1852, 1860,\n",
    " 1861, 1862, 1868, 1875, 1884, 1885, 1886, 1887, 1888, 1889, 1890, 1891, 1894,\n",
    " 1896, 1897, 1900, 1906, 1911, 1913, 1915, 1917, 1921, 1922, 1924, 1925, 1926,\n",
    " 1930, 1932, 1934, 1938, 1940, 1947, 1955, 1956, 1960, 1963, 1965, 1966, 1968,\n",
    " 1973, 1974, 1979, 1982, 1990, 1991, 1994, 1998, 1999, 2000, 2003, 2008, 2012,\n",
    " 2017, 2019, 2020, 2021, 2029, 2031, 2034, 2038, 2043, 2051, 2054, 2059, 2064,\n",
    " 2065, 2066, 2075, 2077, 2081, 2083, 2084, 2087, 2089, 2090, 2096, 2098, 2099,\n",
    " 2101, 2103, 2104, 2109, 2110, 2118, 2120, 2121, 2123, 2127, 2130, 2142, 2145,\n",
    " 2146, 2150, 2152, 2157, 2158, 2159, 2162, 2165, 2166, 2169, 2170, 2174, 2175,\n",
    " 2177, 2179, 2183, 2184, 2191, 2194, 2196, 2198, 2201, 2204, 2206, 2208, 2209,\n",
    " 2212, 2216, 2218, 2219, 2221, 2222, 2224, 2232, 2236, 2240, 2242, 2251, 2253,\n",
    " 2254, 2260, 2262, 2267, 2273, 2276, 2277, 2285, 2291, 2293, 2295, 2297, 2299,\n",
    " 2300, 2305, 2306, 2310, 2311, 2315, 2318, 2319, 2322, 2324, 2328, 2329, 2332,\n",
    " 2339, 2348, 2353, 2354, 2358, 2359, 2361, 2363, 2364, 2367, 2369, 2371, 2378,\n",
    " 2380, 2381, 2384, 2388, 2389, 2391, 2396, 2401, 2406, 2407, 2408, 2409, 2410,\n",
    " 2411, 2412, 2413, 2416, 2418, 2422, 2428, 2438, 2439, 2440, 2444, 2446, 2449,\n",
    " 2451, 2452, 2456, 2458, 2467, 2468, 2469, 2470, 2473, 2476, 2480, 2481, 2482,\n",
    " 2484, 2485, 2489, 2490, 2492, 2493, 2494, 2497, 2498, 2499, 2502, 2505, 2506,\n",
    " 2507, 2508, 2509, 2512, 2515, 2519, 2525, 2526, 2528, 2534, 2535, 2536, 2539,\n",
    " 2540, 2542, 2551, 2552, 2557, 2559, 2560, 2561, 2562, 2565, 2566, 2570, 2571,\n",
    " 2572, 2573, 2577, 2579, 2580, 2584, 2585, 2588, 2591, 2592, 2593, 2599, 2600,\n",
    " 2602, 2607, 2609, 2610, 2617, 2618, 2620, 2623, 2625, 2627, 2628}\n",
    "\n",
    "# TODO: actually use these predictions instead of offline fits.\n",
    "indices_use_nn_prediction = set()  # Default is offline fit"
   ]
  },
  {
   "cell_type": "code",
   "execution_count": 22,
   "id": "53d3556e",
   "metadata": {
    "scrolled": false
   },
   "outputs": [
    {
     "data": {
      "application/vnd.jupyter.widget-view+json": {
       "model_id": "ca4dacc6df7f410ab96d80d621534261",
       "version_major": 2,
       "version_minor": 0
      },
      "text/plain": [
       "HBox(children=(Button(description='Prev', style=ButtonStyle()), IntSlider(value=0, max=745), Button(descriptio…"
      ]
     },
     "metadata": {},
     "output_type": "display_data"
    },
    {
     "data": {
      "application/vnd.jupyter.widget-view+json": {
       "model_id": "b364db73351b4e19b3e123b644a78cc6",
       "version_major": 2,
       "version_minor": 0
      },
      "text/plain": [
       "Image(value=b'')"
      ]
     },
     "metadata": {},
     "output_type": "display_data"
    }
   ],
   "source": [
    "button = widgets.Button(description='Bad')\n",
    "button_use_nn_pred = widgets.Button(description='Use NN')\n",
    "button_use_offline_pred = widgets.Button(description='Use Offline')\n",
    "button_next = widgets.Button(description='Next')\n",
    "button_prev = widgets.Button(description='Prev')\n",
    "slider = widgets.IntSlider(value = 0, min=0, max=len(order)-1)\n",
    "image_widget = widgets.Image()\n",
    "\n",
    "label = widgets.Label(\"---\")\n",
    "\n",
    "\n",
    "my_widgets = widgets.HBox([button_prev, slider, button_next, button, button_use_nn_pred, button_use_offline_pred, label])\n",
    "\n",
    "\n",
    "current_index = 0\n",
    "\n",
    "\n",
    "def on_next(_):\n",
    "    global slider\n",
    "    slider.value += 1 if slider.value < slider.max else 0\n",
    "    #update_label()\n",
    "    #render_sample(current_index)\n",
    "\n",
    "    \n",
    "def on_prev(_):\n",
    "    global slider\n",
    "    slider.value -= 1 if slider.value > slider.min else 0\n",
    "    #update_label()\n",
    "    #render_sample(current_index)\n",
    "    \n",
    "\n",
    "def on_button_clicked(_):\n",
    "    bad_sequences.add(current_index)\n",
    "    try:\n",
    "        indices_use_nn_prediction.remove(current_index)\n",
    "    except KeyError:\n",
    "        pass\n",
    "    update_label()\n",
    "\n",
    "\n",
    "def on_button_use_nn_pred(_):\n",
    "    try:\n",
    "        bad_sequences.remove(current_index)\n",
    "    except KeyError:\n",
    "        pass\n",
    "    indices_use_nn_prediction.add(current_index)\n",
    "    update_label()\n",
    "\n",
    "    \n",
    "def on_button_use_offline_pred(_):\n",
    "    try:\n",
    "        bad_sequences.remove(current_index)\n",
    "    except KeyError:\n",
    "        pass\n",
    "    try:\n",
    "        indices_use_nn_prediction.remove(current_index)\n",
    "    except KeyError:\n",
    "        pass\n",
    "    update_label()\n",
    "\n",
    "\n",
    "def update_label():\n",
    "    if current_index in bad_sequences:\n",
    "        label.value = f\"Bad Label {current_index}\"\n",
    "        return\n",
    "    if current_index in indices_use_nn_prediction:\n",
    "        label.value = f\"NN {current_index}\"\n",
    "        return\n",
    "    label.value = f\"Offline {current_index}\"\n",
    "\n",
    "def value_changed(change):\n",
    "    render_sample(change.new)\n",
    "    \n",
    "button.on_click(on_button_clicked)\n",
    "button_use_nn_pred.on_click(on_button_use_nn_pred)\n",
    "button_use_offline_pred.on_click(on_button_use_offline_pred)\n",
    "button_prev.on_click(on_prev)\n",
    "button_next.on_click(on_next)\n",
    "slider.observe(value_changed, 'value')\n",
    "\n",
    "\n",
    "display(my_widgets)\n",
    "display(image_widget)\n",
    "\n",
    "def _visualize(sample):\n",
    "    img = sample['image']\n",
    "    rendering = facerender.set(\n",
    "        sample['coord'][:2],\n",
    "        sample['coord'][2],\n",
    "        Rotation.from_quat(sample['pose']),\n",
    "        sample['shapeparam'][:50],\n",
    "        img.shape[:2],\n",
    "    )\n",
    "    sample = copy.copy(sample)\n",
    "    rendering = Image.fromarray(rendering)\n",
    "    img = Image.fromarray(img)\n",
    "    img = Image.blend(rendering, img, 0.4)\n",
    "    sample['image'] = np.asarray(img)\n",
    "    img = vis.draw_dataset_sample(sample)\n",
    "    return img\n",
    "\n",
    "\n",
    "#@interact(idx = (0,len(order)-1))\n",
    "def render_sample(idx): #, overlay, show_network_prediction):\n",
    "    i = order[idx]\n",
    "    sample_image = ds[i]['image']\n",
    "    h, w = sample_image.shape[:2]    \n",
    "    \n",
    "    global current_index\n",
    "    current_index = i\n",
    "    \n",
    "    img = sample_image\n",
    "    if img.shape[-1] == 1:\n",
    "        img = np.broadcast_to(img, img.shape[:2]+(3,))\n",
    "    \n",
    "    nn_sample = {\n",
    "        'image' : np.asarray(img),\n",
    "        'coord' : coords_nn[i],\n",
    "        'pose' : quats_nn[i],\n",
    "        'pt3d_68' : pred_nn[i],\n",
    "        'shapeparam' : shapeparam_nn[i],\n",
    "    }\n",
    "\n",
    "    offline_sample = {\n",
    "        'image' : np.asarray(img),\n",
    "        'coord' : coords_offline[i],\n",
    "        'pose' : quats_offline[i],\n",
    "        'pt3d_68' : pred_offline[i],\n",
    "        'shapeparam' : shapeparam_offline[i],\n",
    "    }\n",
    "    \n",
    "    vis.draw_points3d(\n",
    "        img,\n",
    "        ds[i]['pt2d_68'],\n",
    "        labels=False\n",
    "    )\n",
    "    nn_vis = _visualize(nn_sample)\n",
    "    nn_vis = cv2.putText(nn_vis, 'nn', (15,15), cv2.FONT_HERSHEY_SIMPLEX, 0.5, (255,255,255))\n",
    "    offline_vis = _visualize(offline_sample)\n",
    "    offline_vis = cv2.putText(offline_vis, 'offline', (15,15), cv2.FONT_HERSHEY_SIMPLEX, 0.5, (255,255,255))\n",
    "    img = np.r_['1,1,1',img,nn_vis,offline_vis]\n",
    "    \n",
    "    if i in bad_sequences:\n",
    "        linewidth = 2\n",
    "        color = (255,0,0)\n",
    "        cv2.line(img, (0,0), (img.shape[1],img.shape[0]), color, linewidth)\n",
    "        cv2.line(img, (0,img.shape[0]), (img.shape[1],0), color, linewidth)\n",
    "    \n",
    "    update_label()\n",
    "    \n",
    "    #return my_widgets\n",
    "    #display(Image.fromarray(img))\n",
    "    image_widget.value = imencode(img,ImageFormat.PNG)"
   ]
  },
  {
   "cell_type": "code",
   "execution_count": 23,
   "id": "c94217ea",
   "metadata": {},
   "outputs": [
    {
     "name": "stdout",
     "output_type": "stream",
     "text": [
      "{2, 3, 4, 6, 11, 14, 15, 19, 20, 22, 25, 30, 34, 38, 42, 44, 46, 49, 56, 57, 58,\n",
      " 61, 66, 70, 77, 78, 81, 85, 92, 97, 100, 101, 102, 106, 107, 109, 110, 111,\n",
      " 113, 115, 122, 124, 126, 127, 130, 134, 135, 136, 146, 150, 154, 159, 166, 174,\n",
      " 177, 178, 182, 185, 186, 191, 193, 196, 201, 202, 206, 212, 213, 214, 216, 220,\n",
      " 221, 222, 224, 228, 229, 230, 231, 232, 234, 247, 248, 253, 254, 259, 260, 266,\n",
      " 268, 269, 271, 272, 274, 275, 278, 279, 283, 288, 296, 297, 300, 302, 304, 306,\n",
      " 308, 310, 314, 324, 325, 326, 328, 329, 331, 334, 337, 339, 342, 343, 345, 348,\n",
      " 349, 350, 354, 356, 359, 367, 369, 370, 373, 378, 384, 386, 387, 389, 390, 391,\n",
      " 394, 396, 399, 400, 401, 402, 404, 407, 410, 411, 412, 418, 419, 421, 426, 428,\n",
      " 441, 442, 444, 448, 454, 455, 456, 458, 459, 461, 465, 480, 483, 484, 487, 488,\n",
      " 496, 506, 509, 513, 514, 519, 521, 524, 525, 527, 528, 532, 537, 542, 550, 551,\n",
      " 553, 554, 558, 567, 569, 572, 573, 581, 582, 584, 585, 588, 590, 591, 592, 594,\n",
      " 596, 597, 599, 602, 604, 605, 606, 607, 609, 620, 623, 624, 625, 633, 636, 637,\n",
      " 640, 644, 646, 649, 653, 656, 657, 658, 664, 666, 671, 675, 676, 677, 681, 684,\n",
      " 685, 686, 689, 693, 694, 696, 700, 702, 703, 705, 706, 709, 711, 712, 713, 716,\n",
      " 721, 722, 725, 726, 727, 732, 733, 735, 740, 743, 746, 747, 748, 753, 754, 756,\n",
      " 757, 764, 765, 770, 772, 773, 774, 775, 777, 783, 784, 788, 791, 792, 793, 794,\n",
      " 797, 800, 802, 805, 807, 808, 811, 821, 829, 834, 839, 840, 842, 843, 844, 845,\n",
      " 848, 850, 851, 854, 855, 856, 859, 861, 864, 869, 870, 871, 875, 883, 885, 886,\n",
      " 888, 894, 896, 897, 899, 901, 902, 906, 922, 925, 937, 938, 939, 940, 941, 942,\n",
      " 944, 949, 951, 953, 955, 957, 965, 966, 967, 971, 972, 973, 978, 981, 983, 988,\n",
      " 990, 994, 996, 997, 999, 1000, 1001, 1002, 1010, 1013, 1014, 1016, 1017, 1018,\n",
      " 1021, 1023, 1025, 1031, 1032, 1035, 1036, 1038, 1041, 1044, 1045, 1048, 1050,\n",
      " 1051, 1063, 1064, 1066, 1068, 1069, 1070, 1071, 1075, 1077, 1079, 1083, 1085,\n",
      " 1086, 1090, 1091, 1096, 1097, 1099, 1101, 1105, 1118, 1119, 1123, 1126, 1137,\n",
      " 1140, 1141, 1146, 1147, 1149, 1152, 1158, 1161, 1166, 1170, 1171, 1175, 1183,\n",
      " 1184, 1190, 1194, 1197, 1199, 1204, 1206, 1207, 1210, 1216, 1218, 1219, 1222,\n",
      " 1226, 1229, 1230, 1236, 1239, 1242, 1243, 1245, 1248, 1251, 1256, 1257, 1264,\n",
      " 1266, 1268, 1269, 1276, 1282, 1283, 1284, 1285, 1287, 1292, 1295, 1297, 1304,\n",
      " 1305, 1318, 1322, 1326, 1329, 1335, 1341, 1344, 1346, 1349, 1350, 1357, 1359,\n",
      " 1360, 1361, 1362, 1364, 1367, 1368, 1372, 1375, 1380, 1382, 1383, 1385, 1386,\n",
      " 1388, 1390, 1394, 1395, 1397, 1398, 1405, 1411, 1415, 1417, 1419, 1422, 1425,\n",
      " 1426, 1427, 1429, 1439, 1443, 1447, 1451, 1452, 1461, 1462, 1467, 1471, 1474,\n",
      " 1484, 1486, 1489, 1494, 1498, 1506, 1507, 1508, 1509, 1510, 1515, 1519, 1520,\n",
      " 1530, 1535, 1536, 1537, 1540, 1544, 1552, 1554, 1556, 1559, 1561, 1562, 1564,\n",
      " 1567, 1569, 1572, 1573, 1576, 1577, 1580, 1583, 1584, 1587, 1588, 1589, 1593,\n",
      " 1595, 1600, 1605, 1606, 1609, 1610, 1611, 1614, 1615, 1617, 1620, 1622, 1627,\n",
      " 1631, 1635, 1639, 1642, 1647, 1648, 1655, 1661, 1662, 1668, 1674, 1675, 1678,\n",
      " 1679, 1681, 1692, 1693, 1702, 1704, 1706, 1714, 1717, 1722, 1727, 1728, 1730,\n",
      " 1732, 1734, 1736, 1738, 1748, 1752, 1756, 1763, 1765, 1766, 1770, 1771, 1772,\n",
      " 1773, 1775, 1779, 1782, 1787, 1789, 1794, 1796, 1798, 1811, 1814, 1815, 1817,\n",
      " 1819, 1820, 1822, 1824, 1825, 1826, 1828, 1837, 1841, 1843, 1847, 1852, 1860,\n",
      " 1861, 1862, 1868, 1875, 1884, 1885, 1886, 1887, 1888, 1889, 1890, 1891, 1894,\n",
      " 1896, 1897, 1900, 1906, 1911, 1913, 1915, 1917, 1921, 1922, 1924, 1925, 1926,\n",
      " 1930, 1932, 1934, 1938, 1940, 1947, 1955, 1956, 1960, 1963, 1965, 1966, 1968,\n",
      " 1973, 1974, 1979, 1982, 1990, 1991, 1994, 1998, 1999, 2000, 2003, 2008, 2012,\n",
      " 2017, 2019, 2020, 2021, 2029, 2031, 2034, 2038, 2043, 2051, 2054, 2059, 2064,\n",
      " 2065, 2066, 2075, 2077, 2081, 2083, 2084, 2087, 2089, 2090, 2096, 2098, 2099,\n",
      " 2101, 2103, 2104, 2109, 2110, 2118, 2120, 2121, 2123, 2127, 2130, 2142, 2145,\n",
      " 2146, 2150, 2152, 2157, 2158, 2159, 2162, 2165, 2166, 2169, 2170, 2174, 2175,\n",
      " 2177, 2179, 2183, 2184, 2191, 2194, 2196, 2198, 2201, 2204, 2206, 2208, 2209,\n",
      " 2212, 2216, 2218, 2219, 2221, 2222, 2224, 2232, 2236, 2240, 2242, 2251, 2253,\n",
      " 2254, 2260, 2262, 2267, 2273, 2276, 2277, 2285, 2291, 2293, 2295, 2297, 2299,\n",
      " 2300, 2305, 2306, 2310, 2311, 2315, 2318, 2319, 2322, 2324, 2328, 2329, 2332,\n",
      " 2339, 2348, 2353, 2354, 2358, 2359, 2361, 2363, 2364, 2367, 2369, 2371, 2378,\n",
      " 2380, 2381, 2384, 2388, 2389, 2391, 2396, 2401, 2406, 2407, 2408, 2409, 2410,\n",
      " 2411, 2412, 2413, 2416, 2418, 2422, 2428, 2438, 2439, 2440, 2444, 2446, 2449,\n",
      " 2451, 2452, 2456, 2458, 2467, 2468, 2469, 2470, 2473, 2476, 2480, 2481, 2482,\n",
      " 2484, 2485, 2489, 2490, 2492, 2493, 2494, 2497, 2498, 2499, 2502, 2505, 2506,\n",
      " 2507, 2508, 2509, 2512, 2515, 2519, 2525, 2526, 2528, 2534, 2535, 2536, 2539,\n",
      " 2540, 2542, 2551, 2552, 2557, 2559, 2560, 2561, 2562, 2565, 2566, 2570, 2571,\n",
      " 2572, 2573, 2577, 2579, 2580, 2584, 2585, 2588, 2591, 2592, 2593, 2599, 2600,\n",
      " 2602, 2607, 2609, 2610, 2617, 2618, 2620, 2623, 2625, 2627, 2628}\n",
      "set()\n"
     ]
    }
   ],
   "source": [
    "pprint.pprint(bad_sequences,compact=True)\n",
    "pprint.pprint(indices_use_nn_prediction,compact=True)"
   ]
  },
  {
   "cell_type": "code",
   "execution_count": 24,
   "id": "dc8cba5a",
   "metadata": {},
   "outputs": [],
   "source": [
    "good_indices = np.setdiff1d(np.arange(N), bad_sequences)"
   ]
  },
  {
   "cell_type": "code",
   "execution_count": 25,
   "id": "75c3f591",
   "metadata": {},
   "outputs": [
    {
     "data": {
      "text/plain": [
       "2629"
      ]
     },
     "execution_count": 25,
     "metadata": {},
     "output_type": "execute_result"
    }
   ],
   "source": [
    "len(good_indices)"
   ]
  },
  {
   "cell_type": "code",
   "execution_count": 26,
   "id": "486732ab",
   "metadata": {},
   "outputs": [],
   "source": [
    "good_indices_file = 'wflw_train_indices_for_3d_rot_aug_v3.txt'\n",
    "augmented_filename = os.path.join(os.environ['DATADIR'],'wflw_augmented_v3.h5')\n",
    "filename = os.path.join(os.environ['DATADIR'],'wflw_train.h5')\n",
    "# Temporary data\n",
    "destination = os.path.join('/tmp','wflw_train_w_offline_fits.h5')\n",
    "filtered_destination = os.path.join('/tmp','wflw_train_good_fitted_frontal_faces.h5')"
   ]
  },
  {
   "cell_type": "code",
   "execution_count": 27,
   "id": "5ed73cbb",
   "metadata": {},
   "outputs": [],
   "source": [
    "with open(os.path.join(os.environ['DATADIR'],good_indices_file),'w',encoding='utf-8') as f:\n",
    "    f.write(','.join(map(str,good_indices)))"
   ]
  },
  {
   "cell_type": "code",
   "execution_count": 28,
   "id": "26eeebed",
   "metadata": {},
   "outputs": [],
   "source": [
    "#with open(os.path.join(os.environ['DATADIR'],good_indices_file),'r',encoding='utf-8') as f:\n",
    "#    good_indices = np.array([int(x) for x in f.read().split(',')])"
   ]
  },
  {
   "cell_type": "code",
   "execution_count": 29,
   "id": "db749b03",
   "metadata": {},
   "outputs": [],
   "source": [
    "with h5py.File(filename, 'r') as f_input, h5py.File(destination, 'w') as f_output:\n",
    "    from_to = [\n",
    "        ('images','images'),\n",
    "        ('rois','rois'),\n",
    "        ('2dfit_v2/quats','quats'),\n",
    "        ('2dfit_v2/coords','coords'),\n",
    "        ('2dfit_v2/pt3d_68','pt3d_68'),\n",
    "        ('2dfit_v2/shapeparams','shapeparams'),\n",
    "    ]\n",
    "    for from_, to in from_to:\n",
    "        f_input.copy(from_, f_output, to)\n",
    "with h5py.File(destination, 'r') as f_output, h5py.File(filtered_destination, 'w') as f_filtered:\n",
    "    filter_file_by_frames(f_output, f_filtered,good_frame_indices=good_indices)"
   ]
  },
  {
   "cell_type": "code",
   "execution_count": 32,
   "id": "b0f8c74a",
   "metadata": {},
   "outputs": [],
   "source": [
    "def as_rotaug_sample(sample):\n",
    "    fields = dict(sample)\n",
    "    fields['rot'] = Rotation.from_quat(fields.pop('pose'))\n",
    "    xys = fields.pop('coord')\n",
    "    fields['xy'] = xys[:2]\n",
    "    fields['scale'] = xys[2]\n",
    "    fields['image'] = np.asarray(fields.pop('image'))\n",
    "    return fields"
   ]
  },
  {
   "cell_type": "code",
   "execution_count": 33,
   "id": "f580d410",
   "metadata": {},
   "outputs": [],
   "source": [
    "rng = np.random.RandomState(seed=12345678)"
   ]
  },
  {
   "cell_type": "code",
   "execution_count": 34,
   "id": "377c6334",
   "metadata": {},
   "outputs": [],
   "source": [
    "augds = Hdf5PoseDataset(filtered_destination, transform=dtr.to_numpy, monochrome=False)"
   ]
  },
  {
   "cell_type": "code",
   "execution_count": 35,
   "id": "f874db02",
   "metadata": {},
   "outputs": [],
   "source": [
    "visualizer = face3drotationaugmentation.SampleVisualizerWindow()"
   ]
  },
  {
   "cell_type": "code",
   "execution_count": 36,
   "id": "3fc91369",
   "metadata": {},
   "outputs": [
    {
     "name": "stderr",
     "output_type": "stream",
     "text": [
      "0it [00:00, ?it/s]Using cache found in /home/mwelter/.cache/torch/hub/intel-isl_MiDaS_1645b7e1675301fdfac03640738fe5a6531e17d6\n",
      "/opt/conda-env/ml/lib/python3.9/site-packages/timm/models/_factory.py:114: UserWarning: Mapping deprecated model name vit_base_resnet50_384 to current vit_base_r50_s16_384.orig_in21k_ft_in1k.\n",
      "  model = create_fn(\n",
      "Using cache found in /home/mwelter/.cache/torch/hub/intel-isl_MiDaS_1645b7e1675301fdfac03640738fe5a6531e17d6\n",
      "2it [00:10,  4.72s/it]"
     ]
    },
    {
     "data": {
      "image/png": "[encoded data removed]",
      "text/plain": [
       "<Figure size 432x288 with 1 Axes>"
      ]
     },
     "metadata": {
      "needs_background": "light"
     },
     "output_type": "display_data"
    },
    {
     "name": "stderr",
     "output_type": "stream",
     "text": [
      "2629it [1:11:42,  1.64s/it]\n"
     ]
    }
   ],
   "source": [
    "with face3drotationaugmentation.dataset_writer(augmented_filename) as writer:\n",
    "    for i, sample in enumerate(tqdm.tqdm(map(as_rotaug_sample, augds))):\n",
    "        gen = face3drotationaugmentation.augment_sample(rng=rng, angle_step=5., prob_closed_eyes=0.5, prob_spotlight=0.001, sample=sample)\n",
    "        name  = f'sample{i:02d}'\n",
    "        del sample['index']\n",
    "        writer.write(name, sample)\n",
    "        for new_sample in gen:\n",
    "            if np.random.randint(0,100)==0:\n",
    "                visualizer.show(new_sample)\n",
    "            pyplot.pause(0.001)\n",
    "            writer.write(name,new_sample)"
   ]
  },
  {
   "cell_type": "code",
   "execution_count": null,
   "id": "eaa8a61f",
   "metadata": {},
   "outputs": [],
   "source": []
  }
 ],
 "metadata": {
  "kernelspec": {
   "display_name": "Python 3 (ipykernel)",
   "language": "python",
   "name": "python3"
  },
  "language_info": {
   "codemirror_mode": {
    "name": "ipython",
    "version": 3
   },
   "file_extension": ".py",
   "mimetype": "text/x-python",
   "name": "python",
   "nbconvert_exporter": "python",
   "pygments_lexer": "ipython3",
   "version": "3.9.12"
  }
 },
 "nbformat": 4,
 "nbformat_minor": 5
}
