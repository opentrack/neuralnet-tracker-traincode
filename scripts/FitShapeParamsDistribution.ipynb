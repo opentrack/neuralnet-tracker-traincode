{
 "cells": [
  {
   "cell_type": "code",
   "execution_count": 1,
   "metadata": {},
   "outputs": [],
   "source": [
    "from matplotlib import pyplot\n",
    "import numpy as np\n",
    "import sys\n",
    "import tqdm\n",
    "import ipywidgets\n",
    "import pickle\n",
    "import copy\n",
    "import os"
   ]
  },
  {
   "cell_type": "code",
   "execution_count": 2,
   "metadata": {},
   "outputs": [],
   "source": [
    "from sklearn.decomposition import PCA\n",
    "from sklearn.mixture import GaussianMixture"
   ]
  },
  {
   "cell_type": "code",
   "execution_count": 3,
   "metadata": {},
   "outputs": [],
   "source": [
    "# from https://github.com/DaWelter/face-3d-rotation-augmentation\n",
    "from face3drotationaugmentation.dataset300wlp import Dataset300WLP"
   ]
  },
  {
   "cell_type": "code",
   "execution_count": 4,
   "metadata": {},
   "outputs": [],
   "source": [
    "f = Dataset300WLP(os.path.join(os.environ['ORIGINAL_DATA_DIR'],'300W-LP.zip'), only_originals=True)"
   ]
  },
  {
   "cell_type": "code",
   "execution_count": 5,
   "metadata": {},
   "outputs": [
    {
     "name": "stderr",
     "output_type": "stream",
     "text": [
      "100%|████████████████████████████████████████████████████████████████████████████████████████████████████████████████████████████| 3837/3837 [00:09<00:00, 390.70it/s]\n"
     ]
    }
   ],
   "source": [
    "def extract(s):\n",
    "    return s['shapeparam'], s['scale']\n",
    "\n",
    "items = [ extract(s) for s in tqdm.tqdm(f) ]"
   ]
  },
  {
   "cell_type": "code",
   "execution_count": 6,
   "metadata": {},
   "outputs": [],
   "source": [
    "shapeparams, scales = zip(*items)\n",
    "shapeparams = np.stack(shapeparams)\n",
    "scales = np.stack(scales)"
   ]
  },
  {
   "cell_type": "markdown",
   "metadata": {},
   "source": [
    "# Distribution of shapeparams?"
   ]
  },
  {
   "cell_type": "code",
   "execution_count": 8,
   "metadata": {},
   "outputs": [
    {
     "data": {
      "application/vnd.jupyter.widget-view+json": {
       "model_id": "aebc4c9a9ae34f2a8df7e0dda5188c45",
       "version_major": 2,
       "version_minor": 0
      },
      "text/plain": [
       "interactive(children=(IntSlider(value=24, description='i', max=49), IntSlider(value=24, description='j', max=4…"
      ]
     },
     "metadata": {},
     "output_type": "display_data"
    }
   ],
   "source": [
    "N = shapeparams.shape[-1]\n",
    "@ipywidgets.interact(i=(0,N-1),j=(0,N-1))\n",
    "def plot(i,j):\n",
    "    pyplot.scatter(shapeparams[:,i],shapeparams[:,j], alpha=0.01)"
   ]
  },
  {
   "cell_type": "code",
   "execution_count": 9,
   "metadata": {},
   "outputs": [],
   "source": [
    "shapeparams_means = np.average(shapeparams, axis=0)[None,:]\n",
    "mean_subtracted = shapeparams - np.average(shapeparams, axis=0)[None,:]"
   ]
  },
  {
   "cell_type": "code",
   "execution_count": 10,
   "metadata": {},
   "outputs": [
    {
     "data": {
      "text/plain": [
       "<matplotlib.image.AxesImage at 0x7f83b87ecaf0>"
      ]
     },
     "execution_count": 10,
     "metadata": {},
     "output_type": "execute_result"
    },
    {
     "data": {
      "image/png": "[encoded data removed]",
      "text/plain": [
       "<Figure size 432x288 with 1 Axes>"
      ]
     },
     "metadata": {
      "needs_background": "light"
     },
     "output_type": "display_data"
    }
   ],
   "source": [
    "cov = np.cov(mean_subtracted, rowvar=False)\n",
    "pyplot.imshow(np.sqrt(np.abs(cov)), vmin=0., vmax=np.amax(cov), cmap='coolwarm')"
   ]
  },
  {
   "cell_type": "markdown",
   "metadata": {},
   "source": [
    "# Let's build a gaussian mixture model\n",
    "\n",
    "With it I can put a loss on the (un)likelihood of predicted parameters"
   ]
  },
  {
   "cell_type": "code",
   "execution_count": 11,
   "metadata": {},
   "outputs": [],
   "source": [
    "gm = GaussianMixture(n_components=10, covariance_type='diag', random_state=0, init_params='kmeans', n_init=10, tol=1.e-3, reg_covar=1.e-7).fit(shapeparams)\n",
    "\n",
    "generated, _ = gm.sample(5000)"
   ]
  },
  {
   "cell_type": "code",
   "execution_count": 12,
   "metadata": {},
   "outputs": [
    {
     "data": {
      "text/plain": [
       "<matplotlib.image.AxesImage at 0x7f83b81d0f10>"
      ]
     },
     "execution_count": 12,
     "metadata": {},
     "output_type": "execute_result"
    },
    {
     "data": {
      "image/png": "[encoded data removed]",
      "text/plain": [
       "<Figure size 432x288 with 1 Axes>"
      ]
     },
     "metadata": {
      "needs_background": "light"
     },
     "output_type": "display_data"
    }
   ],
   "source": [
    "cov = np.cov(generated - np.average(generated,axis=0)[None,:], rowvar=False)\n",
    "pyplot.imshow(np.sqrt(np.abs(cov)), vmin=0., vmax=np.amax(cov), cmap='coolwarm')"
   ]
  },
  {
   "cell_type": "code",
   "execution_count": 13,
   "metadata": {},
   "outputs": [
    {
     "data": {
      "application/vnd.jupyter.widget-view+json": {
       "model_id": "546c1f0d4ec74d16b0bbafc73b6950da",
       "version_major": 2,
       "version_minor": 0
      },
      "text/plain": [
       "interactive(children=(IntSlider(value=24, description='i', max=49), IntSlider(value=24, description='j', max=4…"
      ]
     },
     "metadata": {},
     "output_type": "display_data"
    }
   ],
   "source": [
    "@ipywidgets.interact(i=(0,N-1),j=(0,N-1))\n",
    "def plot(i,j):\n",
    "    pyplot.scatter(shapeparams[:,i], shapeparams[:,j], alpha=0.01, c='b')\n",
    "    pyplot.scatter(generated[:,i], generated[:,j], alpha=0.01, c='r')\n",
    "    pyplot.scatter(gm.means_[:,i], gm.means_[:,j], c='r', marker='x')"
   ]
  },
  {
   "cell_type": "code",
   "execution_count": 208,
   "metadata": {},
   "outputs": [],
   "source": [
    "with open('../trackertraincode/facemodel/shapeparams_gmm.pkl','wb') as f:\n",
    "    pickle.dump(gm, f)"
   ]
  }
 ],
 "metadata": {
  "kernelspec": {
   "display_name": "Python 3 (ipykernel)",
   "language": "python",
   "name": "python3"
  },
  "language_info": {
   "codemirror_mode": {
    "name": "ipython",
    "version": 3
   },
   "file_extension": ".py",
   "mimetype": "text/x-python",
   "name": "python",
   "nbconvert_exporter": "python",
   "pygments_lexer": "ipython3",
   "version": "3.9.12"
  }
 },
 "nbformat": 4,
 "nbformat_minor": 4
}
